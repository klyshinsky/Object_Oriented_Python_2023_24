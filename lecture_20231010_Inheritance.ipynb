{
 "cells": [
  {
   "cell_type": "markdown",
   "metadata": {},
   "source": [
    "# Наследование в Python"
   ]
  },
  {
   "cell_type": "markdown",
   "metadata": {},
   "source": [
    "Давайте решим следующую задачу.\n",
    "\n",
    "Необходимо написать робота, который будет скачивать новости с сайта Лента.Ру и фильтровать их в зависимости от интересов пользователя. От пользователя требуется отмечать интересующие его новости, по которым система будет выделять области его интересов.\n"
   ]
  },
  {
   "cell_type": "code",
   "execution_count": 52,
   "metadata": {},
   "outputs": [],
   "source": [
    "import requests \n",
    "from lxml import html"
   ]
  },
  {
   "cell_type": "markdown",
   "metadata": {},
   "source": [
    "## Но сперва поговорим вот о чем"
   ]
  },
  {
   "cell_type": "markdown",
   "metadata": {},
   "source": [
    "### Exceptions"
   ]
  },
  {
   "cell_type": "markdown",
   "metadata": {},
   "source": [
    "В Питоне есть возможность отлавливать происходящие ошибки при помощи try ... except. Если в блоке try происходит ошибка, то выполнение программы не прекращается, а выполняется сперва блок except, а потом код выполняется дальше."
   ]
  },
  {
   "cell_type": "code",
   "execution_count": 4,
   "metadata": {},
   "outputs": [
    {
     "name": "stdout",
     "output_type": "stream",
     "text": [
      "введите число0\n",
      "Введите другое число!\n",
      "введите число0\n",
      "Введите другое число!\n",
      "введите число1\n"
     ]
    }
   ],
   "source": [
    "while True:\n",
    "    try:\n",
    "        d1 = input(\"введите число\")\n",
    "        d2 = 10 / int(d1)\n",
    "        print(d2)\n",
    "        break\n",
    "    except:\n",
    "        print(\"Введите другое число!\")"
   ]
  },
  {
   "cell_type": "code",
   "execution_count": 17,
   "metadata": {},
   "outputs": [
    {
     "name": "stdout",
     "output_type": "stream",
     "text": [
      "Exception comes!\n"
     ]
    }
   ],
   "source": [
    "try:\n",
    "    a = b / 0\n",
    "except:\n",
    "    print(\"Exception comes!\")"
   ]
  },
  {
   "cell_type": "code",
   "execution_count": 1,
   "metadata": {},
   "outputs": [
    {
     "ename": "NameError",
     "evalue": "name 'b' is not defined",
     "output_type": "error",
     "traceback": [
      "\u001b[0;31m---------------------------------------------------------------------------\u001b[0m",
      "\u001b[0;31mNameError\u001b[0m                                 Traceback (most recent call last)",
      "\u001b[0;32m/tmp/ipykernel_75241/759579516.py\u001b[0m in \u001b[0;36m<module>\u001b[0;34m\u001b[0m\n\u001b[1;32m      1\u001b[0m \u001b[0;31m# Без исключительной ситуации.\u001b[0m\u001b[0;34m\u001b[0m\u001b[0;34m\u001b[0m\u001b[0m\n\u001b[0;32m----> 2\u001b[0;31m \u001b[0ma\u001b[0m \u001b[0;34m=\u001b[0m \u001b[0mb\u001b[0m \u001b[0;34m/\u001b[0m \u001b[0;36m0\u001b[0m\u001b[0;34m\u001b[0m\u001b[0;34m\u001b[0m\u001b[0m\n\u001b[0m",
      "\u001b[0;31mNameError\u001b[0m: name 'b' is not defined"
     ]
    }
   ],
   "source": [
    "# Без исключительной ситуации.\n",
    "a = b / 0\n"
   ]
  },
  {
   "cell_type": "markdown",
   "metadata": {},
   "source": [
    "Замечу, что некоторые функции специально вызывают исключительные ситуации, если в них что-то пошло не по умолчанию. Это может быть штатным поведением функции. \n",
    "\n",
    "Если хочется поймать ситуацию, когда код выполнился без исключительной ситуации, нужно использовать конструкцию `try ... except ... else ...`. Блок `else` выполняется только в том случае, когда код выполнился штатно, то есть полностью и корректно. В такой ситуации можно ожидать корректного состояния программы по всем пунктам."
   ]
  },
  {
   "cell_type": "code",
   "execution_count": 7,
   "metadata": {},
   "outputs": [
    {
     "ename": "TypeError",
     "evalue": "'NoneType' object is not subscriptable",
     "output_type": "error",
     "traceback": [
      "\u001b[0;31m---------------------------------------------------------------------------\u001b[0m",
      "\u001b[0;31mTypeError\u001b[0m                                 Traceback (most recent call last)",
      "\u001b[0;32m/tmp/ipykernel_75332/1269304327.py\u001b[0m in \u001b[0;36m<module>\u001b[0;34m\u001b[0m\n\u001b[1;32m      8\u001b[0m     \u001b[0mdata\u001b[0m \u001b[0;34m=\u001b[0m \u001b[0mf\u001b[0m\u001b[0;34m.\u001b[0m\u001b[0mread\u001b[0m\u001b[0;34m(\u001b[0m\u001b[0msize\u001b[0m\u001b[0;34m)\u001b[0m\u001b[0;34m\u001b[0m\u001b[0;34m\u001b[0m\u001b[0m\n\u001b[1;32m      9\u001b[0m \u001b[0;34m\u001b[0m\u001b[0m\n\u001b[0;32m---> 10\u001b[0;31m \u001b[0mprint\u001b[0m\u001b[0;34m(\u001b[0m\u001b[0mdata\u001b[0m\u001b[0;34m[\u001b[0m\u001b[0;34m:\u001b[0m\u001b[0;36m100\u001b[0m\u001b[0;34m]\u001b[0m\u001b[0;34m)\u001b[0m\u001b[0;34m\u001b[0m\u001b[0;34m\u001b[0m\u001b[0m\n\u001b[0m",
      "\u001b[0;31mTypeError\u001b[0m: 'NoneType' object is not subscriptable"
     ]
    }
   ],
   "source": [
    "try:\n",
    "    f = open(\"no_file_at_disk.none\")\n",
    "except:\n",
    "    data = None\n",
    "else:\n",
    "    f.seek(0, 2) # move the cursor to the end of the file\n",
    "    size = f.tell()\n",
    "    data = f.read(size)\n",
    "    \n",
    "print(data[:100])"
   ]
  },
  {
   "cell_type": "markdown",
   "metadata": {},
   "source": [
    "Иногда бывает необходимо выполнить код после в любом случае - произошло исключение или нет. Например, нам надо освободить какие-то ресурсы. Для этого можно использовать блок `finally`. Если исключения не будет, он выполнится и код продолжит свое выполнение. Если исключение произойдет для `try ... finally ... `, выполнится блок `finally`, а только потом произойдет исключение. Если оно произойдет в конструкции `try ... except ... finally ...`, сперва отработает код исключения, а потом `finally`.\n",
    "\n",
    "`finally` идет после `else`."
   ]
  },
  {
   "cell_type": "code",
   "execution_count": 12,
   "metadata": {},
   "outputs": [
    {
     "name": "stdout",
     "output_type": "stream",
     "text": [
      "I'll be back. 👍\n"
     ]
    },
    {
     "ename": "ZeroDivisionError",
     "evalue": "division by zero",
     "output_type": "error",
     "traceback": [
      "\u001b[0;31m---------------------------------------------------------------------------\u001b[0m",
      "\u001b[0;31mZeroDivisionError\u001b[0m                         Traceback (most recent call last)",
      "\u001b[0;32m/tmp/ipykernel_75332/3827096827.py\u001b[0m in \u001b[0;36m<module>\u001b[0;34m\u001b[0m\n\u001b[1;32m      4\u001b[0m \u001b[0;31m# c = 1\u001b[0m\u001b[0;34m\u001b[0m\u001b[0;34m\u001b[0m\u001b[0m\n\u001b[1;32m      5\u001b[0m \u001b[0;32mtry\u001b[0m\u001b[0;34m:\u001b[0m\u001b[0;34m\u001b[0m\u001b[0;34m\u001b[0m\u001b[0m\n\u001b[0;32m----> 6\u001b[0;31m     \u001b[0ma\u001b[0m \u001b[0;34m=\u001b[0m \u001b[0mb\u001b[0m \u001b[0;34m/\u001b[0m \u001b[0mc\u001b[0m\u001b[0;34m\u001b[0m\u001b[0;34m\u001b[0m\u001b[0m\n\u001b[0m\u001b[1;32m      7\u001b[0m \u001b[0;31m# except:\u001b[0m\u001b[0;34m\u001b[0m\u001b[0;34m\u001b[0m\u001b[0m\n\u001b[1;32m      8\u001b[0m \u001b[0;31m#     print(\"Exception comes!\")\u001b[0m\u001b[0;34m\u001b[0m\u001b[0;34m\u001b[0m\u001b[0m\n",
      "\u001b[0;31mZeroDivisionError\u001b[0m: division by zero"
     ]
    }
   ],
   "source": [
    "# b = None\n",
    "b = 1\n",
    "c = 0\n",
    "# c = 1\n",
    "try:\n",
    "    a = b / c\n",
    "# except:\n",
    "#     print(\"Exception comes!\")\n",
    "# else:\n",
    "#     print(\"Try not to get worried, try not to turn on to Problems that upset you, oh.\")\n",
    "finally:\n",
    "    print(\"I'll be back. 👍\")\n"
   ]
  },
  {
   "cell_type": "markdown",
   "metadata": {},
   "source": [
    "Мы можем поймать **переменную** исключения и посмотреть на нее."
   ]
  },
  {
   "cell_type": "code",
   "execution_count": 27,
   "metadata": {},
   "outputs": [
    {
     "name": "stdout",
     "output_type": "stream",
     "text": [
      "<class 'ZeroDivisionError'> ['__cause__', '__class__', '__context__', '__delattr__', '__dict__', '__dir__', '__doc__', '__eq__', '__format__', '__ge__', '__getattribute__', '__gt__', '__hash__', '__init__', '__init_subclass__', '__le__', '__lt__', '__ne__', '__new__', '__reduce__', '__reduce_ex__', '__repr__', '__setattr__', '__setstate__', '__sizeof__', '__str__', '__subclasshook__', '__suppress_context__', '__traceback__', 'args', 'with_traceback'] ['tb_frame', 'tb_lasti', 'tb_lineno', 'tb_next']\n"
     ]
    }
   ],
   "source": [
    "# b = None\n",
    "b = 1\n",
    "c = 0\n",
    "# c = 1\n",
    "\n",
    "try:\n",
    "    a = b / c\n",
    "except Exception as err:\n",
    "    print(type(err), dir(err), dir(err.__traceback__))#, err.with_traceback())\n"
   ]
  },
  {
   "cell_type": "markdown",
   "metadata": {},
   "source": [
    "Как можно увидеть из предыдущего примера, исключения бывают разные, мы можем сказать какие именно ловить."
   ]
  },
  {
   "cell_type": "code",
   "execution_count": 25,
   "metadata": {},
   "outputs": [
    {
     "name": "stdout",
     "output_type": "stream",
     "text": [
      "Never divide by zero ('division by zero',)\n"
     ]
    }
   ],
   "source": [
    "# b = None\n",
    "b = 1\n",
    "c = 0\n",
    "# c = 1\n",
    "\n",
    "try:\n",
    "    a = b / c\n",
    "except TypeError as err:\n",
    "    print('Take care on your variables', err.args)\n",
    "except ZeroDivisionError as err:\n",
    "    print('Never divide by zero', err.args)\n",
    "except Exception as err:\n",
    "    print(type(err), dir(err))\n"
   ]
  },
  {
   "cell_type": "markdown",
   "metadata": {},
   "source": [
    "Можно порождать собственные исключения. Для этого используем `raise`."
   ]
  },
  {
   "cell_type": "code",
   "execution_count": 32,
   "metadata": {},
   "outputs": [
    {
     "ename": "UnicodeDecodeError",
     "evalue": "'utf-8' codec can't decode byte 0xfe in position 0: invalid start byte",
     "output_type": "error",
     "traceback": [
      "\u001b[0;31m---------------------------------------------------------------------------\u001b[0m",
      "\u001b[0;31mUnicodeDecodeError\u001b[0m                        Traceback (most recent call last)",
      "\u001b[0;32m/tmp/ipykernel_75332/2355057964.py\u001b[0m in \u001b[0;36m<module>\u001b[0;34m\u001b[0m\n\u001b[0;32m----> 1\u001b[0;31m \u001b[0;34mb'\\xfe\\xff'\u001b[0m\u001b[0;34m.\u001b[0m\u001b[0mdecode\u001b[0m\u001b[0;34m(\u001b[0m\u001b[0;34m'utf-8'\u001b[0m\u001b[0;34m)\u001b[0m\u001b[0;34m\u001b[0m\u001b[0;34m\u001b[0m\u001b[0m\n\u001b[0m",
      "\u001b[0;31mUnicodeDecodeError\u001b[0m: 'utf-8' codec can't decode byte 0xfe in position 0: invalid start byte"
     ]
    }
   ],
   "source": [
    "b'\\xfe\\xff'.decode('utf-8')"
   ]
  },
  {
   "cell_type": "code",
   "execution_count": 36,
   "metadata": {},
   "outputs": [],
   "source": [
    "def never_work() -> None:\n",
    "    raise\n",
    "    \n",
    "def never_work2() -> None:\n",
    "    raise Exception(\"I'm booooreeeed!\")\n",
    "    \n",
    "def never_work3() -> None:\n",
    "    err = ZeroDivisionError(\"I'm looking like zero division!\", {'a':1, 'b':2})\n",
    "    err.it_wents_wrong = ['asd', 12]\n",
    "    raise err    \n",
    "    "
   ]
  },
  {
   "cell_type": "code",
   "execution_count": 43,
   "metadata": {},
   "outputs": [
    {
     "ename": "RuntimeError",
     "evalue": "No active exception to reraise",
     "output_type": "error",
     "traceback": [
      "\u001b[0;31m---------------------------------------------------------------------------\u001b[0m",
      "\u001b[0;31mRuntimeError\u001b[0m                              Traceback (most recent call last)",
      "\u001b[0;32m/tmp/ipykernel_55237/1941191728.py\u001b[0m in \u001b[0;36m<module>\u001b[0;34m\u001b[0m\n\u001b[0;32m----> 1\u001b[0;31m \u001b[0mnever_work\u001b[0m\u001b[0;34m(\u001b[0m\u001b[0;34m)\u001b[0m\u001b[0;34m\u001b[0m\u001b[0;34m\u001b[0m\u001b[0m\n\u001b[0m",
      "\u001b[0;32m/tmp/ipykernel_55237/3483338864.py\u001b[0m in \u001b[0;36mnever_work\u001b[0;34m()\u001b[0m\n\u001b[1;32m      1\u001b[0m \u001b[0;32mdef\u001b[0m \u001b[0mnever_work\u001b[0m\u001b[0;34m(\u001b[0m\u001b[0;34m)\u001b[0m \u001b[0;34m->\u001b[0m \u001b[0;32mNone\u001b[0m\u001b[0;34m:\u001b[0m\u001b[0;34m\u001b[0m\u001b[0;34m\u001b[0m\u001b[0m\n\u001b[0;32m----> 2\u001b[0;31m     \u001b[0;32mraise\u001b[0m\u001b[0;34m\u001b[0m\u001b[0;34m\u001b[0m\u001b[0m\n\u001b[0m\u001b[1;32m      3\u001b[0m \u001b[0;34m\u001b[0m\u001b[0m\n\u001b[1;32m      4\u001b[0m \u001b[0;32mdef\u001b[0m \u001b[0mnever_work2\u001b[0m\u001b[0;34m(\u001b[0m\u001b[0;34m)\u001b[0m \u001b[0;34m->\u001b[0m \u001b[0;32mNone\u001b[0m\u001b[0;34m:\u001b[0m\u001b[0;34m\u001b[0m\u001b[0;34m\u001b[0m\u001b[0m\n\u001b[1;32m      5\u001b[0m     \u001b[0;32mraise\u001b[0m \u001b[0mException\u001b[0m\u001b[0;34m(\u001b[0m\u001b[0;34m\"I'm booooreeeed!\"\u001b[0m\u001b[0;34m)\u001b[0m\u001b[0;34m\u001b[0m\u001b[0;34m\u001b[0m\u001b[0m\n",
      "\u001b[0;31mRuntimeError\u001b[0m: No active exception to reraise"
     ]
    }
   ],
   "source": [
    "never_work()"
   ]
  },
  {
   "cell_type": "code",
   "execution_count": 44,
   "metadata": {},
   "outputs": [
    {
     "ename": "ZeroDivisionError",
     "evalue": "I'm looking like zero division!",
     "output_type": "error",
     "traceback": [
      "\u001b[0;31m---------------------------------------------------------------------------\u001b[0m",
      "\u001b[0;31mZeroDivisionError\u001b[0m                         Traceback (most recent call last)",
      "\u001b[0;32m/tmp/ipykernel_55237/2336824269.py\u001b[0m in \u001b[0;36m<module>\u001b[0;34m\u001b[0m\n\u001b[0;32m----> 1\u001b[0;31m \u001b[0mnever_work2\u001b[0m\u001b[0;34m(\u001b[0m\u001b[0;34m)\u001b[0m\u001b[0;34m\u001b[0m\u001b[0;34m\u001b[0m\u001b[0m\n\u001b[0m",
      "\u001b[0;32m/tmp/ipykernel_55237/3483338864.py\u001b[0m in \u001b[0;36mnever_work2\u001b[0;34m()\u001b[0m\n\u001b[1;32m      6\u001b[0m \u001b[0;34m\u001b[0m\u001b[0m\n\u001b[1;32m      7\u001b[0m \u001b[0;32mdef\u001b[0m \u001b[0mnever_work2\u001b[0m\u001b[0;34m(\u001b[0m\u001b[0;34m)\u001b[0m \u001b[0;34m->\u001b[0m \u001b[0;32mNone\u001b[0m\u001b[0;34m:\u001b[0m\u001b[0;34m\u001b[0m\u001b[0;34m\u001b[0m\u001b[0m\n\u001b[0;32m----> 8\u001b[0;31m     \u001b[0;32mraise\u001b[0m \u001b[0mZeroDivisionError\u001b[0m\u001b[0;34m(\u001b[0m\u001b[0;34m\"I'm looking like zero division!\"\u001b[0m\u001b[0;34m)\u001b[0m\u001b[0;34m\u001b[0m\u001b[0;34m\u001b[0m\u001b[0m\n\u001b[0m\u001b[1;32m      9\u001b[0m \u001b[0;34m\u001b[0m\u001b[0m\n",
      "\u001b[0;31mZeroDivisionError\u001b[0m: I'm looking like zero division!"
     ]
    }
   ],
   "source": [
    "never_work2()"
   ]
  },
  {
   "cell_type": "code",
   "execution_count": 37,
   "metadata": {},
   "outputs": [
    {
     "name": "stdout",
     "output_type": "stream",
     "text": [
      "what? (\"I'm looking like zero division!\", {'a': 1, 'b': 2}) ['asd', 12]\n"
     ]
    }
   ],
   "source": [
    "try:\n",
    "    never_work3()\n",
    "except ZeroDivisionError as err:\n",
    "    print('what?', err.args, err.it_wents_wrong)"
   ]
  },
  {
   "cell_type": "code",
   "execution_count": null,
   "metadata": {},
   "outputs": [],
   "source": []
  },
  {
   "cell_type": "markdown",
   "metadata": {},
   "source": [
    "### namedtuple\n",
    "\n",
    "Есть старая проблема: мне не очень понятно, почему я храню объекты в словарях, списках или кортежах. С другой стороны, я хочу, чтобы значения полей объекта никто не менял. Или чтобы оно имело только простые свойства практически без методов. Или создавать классы и объекты налету. \n",
    "\n",
    "Для этого есть старое решение - `namedtuple`. Ей можно передать список названий, по которым мы будем обращаться к элементам кортежа. При этом названия можно использовать как свойства, то есть писать после имени объекта через точку. "
   ]
  },
  {
   "cell_type": "code",
   "execution_count": 38,
   "metadata": {},
   "outputs": [],
   "source": [
    "from collections import namedtuple"
   ]
  },
  {
   "cell_type": "code",
   "execution_count": 49,
   "metadata": {},
   "outputs": [],
   "source": [
    "# Создаем новый тип, передаем в него название типа и список полей.\n",
    "LentaArticleTupled = namedtuple('LentaArticleTupled', \n",
    "                                ['title', 'text', 'description', 'time', 'author'])\n"
   ]
  },
  {
   "cell_type": "code",
   "execution_count": 50,
   "metadata": {},
   "outputs": [],
   "source": [
    "# Создаем объект этого нового типа, передаем в него значения полей.\n",
    "la = LentaArticleTupled('123', '234', 'asdf', '10:01', 'Nope')\n",
    "la2 = LentaArticleTupled('321', text='098', description='asdf', time='10:01', author='Nope')"
   ]
  },
  {
   "cell_type": "code",
   "execution_count": 42,
   "metadata": {},
   "outputs": [
    {
     "data": {
      "text/plain": [
       "'123'"
      ]
     },
     "execution_count": 42,
     "metadata": {},
     "output_type": "execute_result"
    }
   ],
   "source": [
    "la.title"
   ]
  },
  {
   "cell_type": "markdown",
   "metadata": {},
   "source": [
    "Кстати, это всё ещё кортеж, то есть можно обращаться к полям по номеру."
   ]
  },
  {
   "cell_type": "code",
   "execution_count": 16,
   "metadata": {},
   "outputs": [
    {
     "data": {
      "text/plain": [
       "'234'"
      ]
     },
     "execution_count": 16,
     "metadata": {},
     "output_type": "execute_result"
    }
   ],
   "source": [
    "la[1]"
   ]
  },
  {
   "cell_type": "markdown",
   "metadata": {},
   "source": [
    "Менять значения полей не получится - это же кортеж!"
   ]
  },
  {
   "cell_type": "code",
   "execution_count": 43,
   "metadata": {},
   "outputs": [
    {
     "ename": "AttributeError",
     "evalue": "can't set attribute",
     "output_type": "error",
     "traceback": [
      "\u001b[0;31m---------------------------------------------------------------------------\u001b[0m",
      "\u001b[0;31mAttributeError\u001b[0m                            Traceback (most recent call last)",
      "\u001b[0;32m/tmp/ipykernel_75332/2788621633.py\u001b[0m in \u001b[0;36m<module>\u001b[0;34m\u001b[0m\n\u001b[0;32m----> 1\u001b[0;31m \u001b[0mla\u001b[0m\u001b[0;34m.\u001b[0m\u001b[0mtitle\u001b[0m \u001b[0;34m=\u001b[0m \u001b[0;34m'123'\u001b[0m\u001b[0;34m\u001b[0m\u001b[0;34m\u001b[0m\u001b[0m\n\u001b[0m",
      "\u001b[0;31mAttributeError\u001b[0m: can't set attribute"
     ]
    }
   ],
   "source": [
    "la.title = '123'"
   ]
  },
  {
   "cell_type": "markdown",
   "metadata": {},
   "source": [
    "А что внутри?"
   ]
  },
  {
   "cell_type": "code",
   "execution_count": 44,
   "metadata": {},
   "outputs": [
    {
     "data": {
      "text/plain": [
       "type"
      ]
     },
     "execution_count": 44,
     "metadata": {},
     "output_type": "execute_result"
    }
   ],
   "source": [
    "type(LentaArticleTupled)"
   ]
  },
  {
   "cell_type": "code",
   "execution_count": 9,
   "metadata": {},
   "outputs": [
    {
     "data": {
      "text/plain": [
       "['__add__',\n",
       " '__class__',\n",
       " '__class_getitem__',\n",
       " '__contains__',\n",
       " '__delattr__',\n",
       " '__dir__',\n",
       " '__doc__',\n",
       " '__eq__',\n",
       " '__format__',\n",
       " '__ge__',\n",
       " '__getattribute__',\n",
       " '__getitem__',\n",
       " '__getnewargs__',\n",
       " '__gt__',\n",
       " '__hash__',\n",
       " '__init__',\n",
       " '__init_subclass__',\n",
       " '__iter__',\n",
       " '__le__',\n",
       " '__len__',\n",
       " '__lt__',\n",
       " '__match_args__',\n",
       " '__module__',\n",
       " '__mul__',\n",
       " '__ne__',\n",
       " '__new__',\n",
       " '__reduce__',\n",
       " '__reduce_ex__',\n",
       " '__repr__',\n",
       " '__rmul__',\n",
       " '__setattr__',\n",
       " '__sizeof__',\n",
       " '__slots__',\n",
       " '__str__',\n",
       " '__subclasshook__',\n",
       " '_asdict',\n",
       " '_field_defaults',\n",
       " '_fields',\n",
       " '_make',\n",
       " '_replace',\n",
       " 'author',\n",
       " 'count',\n",
       " 'description',\n",
       " 'index',\n",
       " 'text',\n",
       " 'time',\n",
       " 'title']"
      ]
     },
     "execution_count": 9,
     "metadata": {},
     "output_type": "execute_result"
    }
   ],
   "source": [
    "dir(LentaArticleTupled)"
   ]
  },
  {
   "cell_type": "code",
   "execution_count": null,
   "metadata": {},
   "outputs": [],
   "source": [
    "LentaArticleTupled.title"
   ]
  },
  {
   "cell_type": "markdown",
   "metadata": {},
   "source": [
    "Создадим теперь функцию, которая загружает новость с Ленты.ру и возвращает именованный кортеж."
   ]
  },
  {
   "cell_type": "code",
   "execution_count": 53,
   "metadata": {},
   "outputs": [
    {
     "ename": "IndexError",
     "evalue": "list index out of range",
     "output_type": "error",
     "traceback": [
      "\u001b[0;31m---------------------------------------------------------------------------\u001b[0m",
      "\u001b[0;31mIndexError\u001b[0m                                Traceback (most recent call last)",
      "\u001b[0;32m/tmp/ipykernel_75332/1625100845.py\u001b[0m in \u001b[0;36m<module>\u001b[0;34m\u001b[0m\n\u001b[1;32m     14\u001b[0m     \u001b[0;32mreturn\u001b[0m \u001b[0marticle\u001b[0m\u001b[0;34m\u001b[0m\u001b[0;34m\u001b[0m\u001b[0m\n\u001b[1;32m     15\u001b[0m \u001b[0;34m\u001b[0m\u001b[0m\n\u001b[0;32m---> 16\u001b[0;31m \u001b[0mget_lenta_article_tupled\u001b[0m\u001b[0;34m(\u001b[0m\u001b[0;34m'https://lenta.ru/news/2021/02/27/apple_effect/'\u001b[0m\u001b[0;34m)\u001b[0m\u001b[0;34m\u001b[0m\u001b[0;34m\u001b[0m\u001b[0m\n\u001b[0m",
      "\u001b[0;32m/tmp/ipykernel_75332/1625100845.py\u001b[0m in \u001b[0;36mget_lenta_article_tupled\u001b[0;34m(url)\u001b[0m\n\u001b[1;32m      6\u001b[0m             \u001b[0mtree\u001b[0m\u001b[0;34m.\u001b[0m\u001b[0mxpath\u001b[0m\u001b[0;34m(\u001b[0m\u001b[0;34m\".//div[contains(@class, 'topic-authors')]\"\u001b[0m\u001b[0;34m)\u001b[0m\u001b[0;34m[\u001b[0m\u001b[0;36m0\u001b[0m\u001b[0;34m]\u001b[0m\u001b[0;34m.\u001b[0m\u001b[0mtext_content\u001b[0m\u001b[0;34m(\u001b[0m\u001b[0;34m)\u001b[0m\u001b[0;34m.\u001b[0m\u001b[0mstrip\u001b[0m\u001b[0;34m(\u001b[0m\u001b[0;34m)\u001b[0m\u001b[0;34m,\u001b[0m\u001b[0;34m\u001b[0m\u001b[0;34m\u001b[0m\u001b[0m\n\u001b[1;32m      7\u001b[0m             \u001b[0mtree\u001b[0m\u001b[0;34m.\u001b[0m\u001b[0mxpath\u001b[0m\u001b[0;34m(\u001b[0m\u001b[0;34m\".//meta[@property='og:description']\"\u001b[0m\u001b[0;34m)\u001b[0m\u001b[0;34m[\u001b[0m\u001b[0;36m0\u001b[0m\u001b[0;34m]\u001b[0m\u001b[0;34m.\u001b[0m\u001b[0mget\u001b[0m\u001b[0;34m(\u001b[0m\u001b[0;34m\"content\"\u001b[0m\u001b[0;34m)\u001b[0m\u001b[0;34m,\u001b[0m\u001b[0;34m\u001b[0m\u001b[0;34m\u001b[0m\u001b[0m\n\u001b[0;32m----> 8\u001b[0;31m             \u001b[0mtree\u001b[0m\u001b[0;34m.\u001b[0m\u001b[0mxpath\u001b[0m\u001b[0;34m(\u001b[0m\u001b[0;34m\".//time[contains(@class, 'topic-header__time')]\"\u001b[0m\u001b[0;34m)\u001b[0m\u001b[0;34m[\u001b[0m\u001b[0;36m0\u001b[0m\u001b[0;34m]\u001b[0m\u001b[0;34m.\u001b[0m\u001b[0mtext_content\u001b[0m\u001b[0;34m(\u001b[0m\u001b[0;34m)\u001b[0m\u001b[0;34m.\u001b[0m\u001b[0mstrip\u001b[0m\u001b[0;34m(\u001b[0m\u001b[0;34m)\u001b[0m\u001b[0;34m,\u001b[0m\u001b[0;34m\u001b[0m\u001b[0;34m\u001b[0m\u001b[0m\n\u001b[0m\u001b[1;32m      9\u001b[0m             '\\n'.join([p.text_content() for p in \n\u001b[1;32m     10\u001b[0m                 tree.xpath(\".//div[contains(@class, '_news')]//p[contains(@class, 'topic-body__content-text')]\")]\n",
      "\u001b[0;31mIndexError\u001b[0m: list index out of range"
     ]
    }
   ],
   "source": [
    "def get_lenta_article_tupled(url: str) -> LentaArticleTupled:\n",
    "    page = requests.get(url)\n",
    "    tree = html.fromstring(page.text)\n",
    "    article = LentaArticleTupled(\n",
    "            tree.xpath(\".//h1\")[0].text_content(),\n",
    "            tree.xpath(\".//div[contains(@class, 'topic-authors')]\")[0].text_content().strip(),\n",
    "            tree.xpath(\".//meta[@property='og:description']\")[0].get(\"content\"),\n",
    "            tree.xpath(\".//time[contains(@class, 'topic-header__time')]\")[0].text_content().strip(), \n",
    "            '\\n'.join([p.text_content() for p in \n",
    "                tree.xpath(\".//div[contains(@class, '_news')]//p[contains(@class, 'topic-body__content-text')]\")]\n",
    "                    )\n",
    "           )\n",
    "    \n",
    "    return article\n",
    "\n",
    "get_lenta_article_tupled('https://lenta.ru/news/2021/02/27/apple_effect/')"
   ]
  },
  {
   "cell_type": "code",
   "execution_count": null,
   "metadata": {},
   "outputs": [],
   "source": []
  },
  {
   "cell_type": "markdown",
   "metadata": {},
   "source": [
    "### @dataclass\n",
    "\n",
    "Иногда нам необходимо создать класс, который будет содержать в себе только данные, но не будет содержать в себе методов работы с этими данными. Для этого существует декоратор `dataclass` из библиотеки `dataclasses`.\n",
    "\n",
    "Их удобство заключается в том, что можно просто описать поля, входящие в этот класса, и все объекты будут создаваться с этими полями. При этом обязательно надо указывать тип атрибута. (Но можно указать `Any` из модуля `typing`.)\n",
    "\n",
    "При необходимости можно присвоить атрибутам значения по умолчанию. Но следует иметь в виду, что сперва идут все поля без значений по умолчанию, а потом все с присваиваемыми значениями.\n",
    "\n",
    "Заметим, что в таких классах могут быть и методы. Просто иногда проще описать такой класс и ничего в него не добавлять, а значения по умолчанию пусть берутся из описания.\n",
    "\n",
    "Более подробно про них можно посмотреть [здесь](https://habr.com/ru/post/415829/) и [здесь](https://docs.python.org/3/library/dataclasses.html)\n"
   ]
  },
  {
   "cell_type": "code",
   "execution_count": 54,
   "metadata": {},
   "outputs": [],
   "source": [
    "from dataclasses import dataclass"
   ]
  },
  {
   "cell_type": "code",
   "execution_count": 55,
   "metadata": {},
   "outputs": [],
   "source": [
    "@dataclass\n",
    "class LentaArticle:\n",
    "    title: str\n",
    "    text: str\n",
    "    description: str\n",
    "    time: str = \"00:00\"\n",
    "    author: str = \"No author\"\n",
    "        \n"
   ]
  },
  {
   "cell_type": "markdown",
   "metadata": {},
   "source": [
    "Теперь напишем функцию, которая будет возвращать объект новости, а не будет хранить атрибуты одной сущности в разных местах."
   ]
  },
  {
   "cell_type": "code",
   "execution_count": 56,
   "metadata": {},
   "outputs": [
    {
     "ename": "IndexError",
     "evalue": "list index out of range",
     "output_type": "error",
     "traceback": [
      "\u001b[0;31m---------------------------------------------------------------------------\u001b[0m",
      "\u001b[0;31mIndexError\u001b[0m                                Traceback (most recent call last)",
      "\u001b[0;32m/tmp/ipykernel_75332/1610471783.py\u001b[0m in \u001b[0;36m<module>\u001b[0;34m\u001b[0m\n\u001b[1;32m     14\u001b[0m     \u001b[0;32mreturn\u001b[0m \u001b[0marticle\u001b[0m\u001b[0;34m\u001b[0m\u001b[0;34m\u001b[0m\u001b[0m\n\u001b[1;32m     15\u001b[0m \u001b[0;34m\u001b[0m\u001b[0m\n\u001b[0;32m---> 16\u001b[0;31m \u001b[0mget_lenta_article\u001b[0m\u001b[0;34m(\u001b[0m\u001b[0;34m'https://lenta.ru/news/2021/02/27/apple_effect/'\u001b[0m\u001b[0;34m)\u001b[0m\u001b[0;34m\u001b[0m\u001b[0;34m\u001b[0m\u001b[0m\n\u001b[0m",
      "\u001b[0;32m/tmp/ipykernel_75332/1610471783.py\u001b[0m in \u001b[0;36mget_lenta_article\u001b[0;34m(url)\u001b[0m\n\u001b[1;32m     10\u001b[0m \u001b[0;34m\u001b[0m\u001b[0m\n\u001b[1;32m     11\u001b[0m     \u001b[0marticle\u001b[0m \u001b[0;34m=\u001b[0m \u001b[0mLentaArticle\u001b[0m\u001b[0;34m(\u001b[0m\u001b[0mttl\u001b[0m\u001b[0;34m,\u001b[0m \u001b[0mtxt\u001b[0m\u001b[0;34m,\u001b[0m \u001b[0mdscrptn\u001b[0m\u001b[0;34m)\u001b[0m\u001b[0;34m\u001b[0m\u001b[0;34m\u001b[0m\u001b[0m\n\u001b[0;32m---> 12\u001b[0;31m     \u001b[0marticle\u001b[0m\u001b[0;34m.\u001b[0m\u001b[0mtime\u001b[0m \u001b[0;34m=\u001b[0m \u001b[0mtree\u001b[0m\u001b[0;34m.\u001b[0m\u001b[0mxpath\u001b[0m\u001b[0;34m(\u001b[0m\u001b[0;34m\".//time[contains(@class, 'topic-header__time')]\"\u001b[0m\u001b[0;34m)\u001b[0m\u001b[0;34m[\u001b[0m\u001b[0;36m0\u001b[0m\u001b[0;34m]\u001b[0m\u001b[0;34m.\u001b[0m\u001b[0mtext_content\u001b[0m\u001b[0;34m(\u001b[0m\u001b[0;34m)\u001b[0m\u001b[0;34m.\u001b[0m\u001b[0mstrip\u001b[0m\u001b[0;34m(\u001b[0m\u001b[0;34m)\u001b[0m\u001b[0;34m\u001b[0m\u001b[0;34m\u001b[0m\u001b[0m\n\u001b[0m\u001b[1;32m     13\u001b[0m     \u001b[0marticle\u001b[0m\u001b[0;34m.\u001b[0m\u001b[0mauthor\u001b[0m \u001b[0;34m=\u001b[0m \u001b[0mtree\u001b[0m\u001b[0;34m.\u001b[0m\u001b[0mxpath\u001b[0m\u001b[0;34m(\u001b[0m\u001b[0;34m\".//div[contains(@class, 'topic-authors')]\"\u001b[0m\u001b[0;34m)\u001b[0m\u001b[0;34m[\u001b[0m\u001b[0;36m0\u001b[0m\u001b[0;34m]\u001b[0m\u001b[0;34m.\u001b[0m\u001b[0mtext_content\u001b[0m\u001b[0;34m(\u001b[0m\u001b[0;34m)\u001b[0m\u001b[0;34m.\u001b[0m\u001b[0mstrip\u001b[0m\u001b[0;34m(\u001b[0m\u001b[0;34m)\u001b[0m\u001b[0;34m\u001b[0m\u001b[0;34m\u001b[0m\u001b[0m\n\u001b[1;32m     14\u001b[0m     \u001b[0;32mreturn\u001b[0m \u001b[0marticle\u001b[0m\u001b[0;34m\u001b[0m\u001b[0;34m\u001b[0m\u001b[0m\n",
      "\u001b[0;31mIndexError\u001b[0m: list index out of range"
     ]
    }
   ],
   "source": [
    "def get_lenta_article(url: str) -> LentaArticle:\n",
    "    page = requests.get(url)\n",
    "    tree = html.fromstring(page.text)\n",
    "    ttl = tree.xpath(\".//h1\")[0].text_content()\n",
    "    dscrptn = tree.xpath(\".//meta[@property='og:description']\")[0].get(\"content\")\n",
    "\n",
    "    txt = '\\n'.join([p.text_content() for p in \n",
    "             tree.xpath(\".//div[contains(@class, '_news')]//p[contains(@class, 'topic-body__content-text')]\")]\n",
    "                    )\n",
    "    \n",
    "    article = LentaArticle(ttl, txt, dscrptn)\n",
    "    article.time = tree.xpath(\".//time[contains(@class, 'topic-header__time')]\")[0].text_content().strip()\n",
    "    article.author = tree.xpath(\".//div[contains(@class, 'topic-authors')]\")[0].text_content().strip()\n",
    "    return article\n",
    "\n",
    "get_lenta_article('https://lenta.ru/news/2021/02/27/apple_effect/')"
   ]
  },
  {
   "cell_type": "markdown",
   "metadata": {},
   "source": [
    "Вообще-то, как-то не очень красиво. А давайте, раз уж можно заводить функции, создадим конструктор, в который будут передаваться значения в удобном для нас порядке. А заодно заведем метод `__repr__`."
   ]
  },
  {
   "cell_type": "code",
   "execution_count": null,
   "metadata": {},
   "outputs": [],
   "source": [
    "@dataclass()\n",
    "class LentaArticle:\n",
    "    title: str\n",
    "    text: str\n",
    "    description: str\n",
    "    time: str = \"00:00\"\n",
    "    author: str = \"No author\"\n",
    "        \n",
    "    def __init__(self: 'LentaArticle', _title: str, _author: str, _description: str,\n",
    "                 _time: str, _text: str):\n",
    "        self.title = _title\n",
    "        self.author = _author\n",
    "        self.description = _description\n",
    "        self.time = _time\n",
    "        self.text = _text\n",
    "        \n",
    "    def __repr__(self: 'LentaArticle') -> str:\n",
    "        return f\"\"\"LentaArticle(\\n  title={self.title[:60]}\\n  author={self.author}\\n  \"\"\"\\\n",
    "               f\"\"\"time={self.time}\\n  {self.text[:100]}...\"\"\"\n",
    "        \n",
    "        \n",
    "def get_lenta_article(url: str) -> LentaArticle:\n",
    "    page = requests.get(url)\n",
    "    tree = html.fromstring(page.text)\n",
    "    article = LentaArticle(\n",
    "            tree.xpath(\".//h1\")[0].text_content(),\n",
    "            tree.xpath(\".//div[contains(@class, 'topic-authors')]\")[0].text_content().strip(),\n",
    "            tree.xpath(\".//meta[@property='og:description']\")[0].get(\"content\"),\n",
    "            tree.xpath(\".//time[contains(@class, 'topic-header__time')]\")[0].text_content().strip(), \n",
    "            '\\n'.join([p.text_content() for p in \n",
    "                tree.xpath(\".//div[contains(@class, '_news')]//p[contains(@class, 'topic-body__content-text')]\")]\n",
    "                    )\n",
    "           )\n",
    "    \n",
    "    return article\n",
    "\n",
    "get_lenta_article('https://lenta.ru/news/2021/02/27/apple_effect/')"
   ]
  },
  {
   "cell_type": "markdown",
   "metadata": {},
   "source": [
    "Декоратор `@dataclass` обладает целым рядом параметров, помогающих проще решать некоторые задачи. \n",
    "\n",
    "`frozen=True` - в объекты нельзя будет добавлять новые атрибуты.  \n",
    "`init, repr, eq, order =True` - заводят соответствующие функции по умолчанию: конструктор, представления, эквивалентности, сравнения."
   ]
  },
  {
   "cell_type": "code",
   "execution_count": 57,
   "metadata": {},
   "outputs": [
    {
     "ename": "FrozenInstanceError",
     "evalue": "cannot assign to field 'newOne'",
     "output_type": "error",
     "traceback": [
      "\u001b[0;31m---------------------------------------------------------------------------\u001b[0m",
      "\u001b[0;31mFrozenInstanceError\u001b[0m                       Traceback (most recent call last)",
      "\u001b[0;32m/tmp/ipykernel_75332/4180302307.py\u001b[0m in \u001b[0;36m<module>\u001b[0;34m\u001b[0m\n\u001b[1;32m      8\u001b[0m \u001b[0;34m\u001b[0m\u001b[0m\n\u001b[1;32m      9\u001b[0m \u001b[0maaa\u001b[0m \u001b[0;34m=\u001b[0m \u001b[0mLentaArticleFrozen\u001b[0m\u001b[0;34m(\u001b[0m\u001b[0;34m)\u001b[0m\u001b[0;34m\u001b[0m\u001b[0;34m\u001b[0m\u001b[0m\n\u001b[0;32m---> 10\u001b[0;31m \u001b[0maaa\u001b[0m\u001b[0;34m.\u001b[0m\u001b[0mnewOne\u001b[0m \u001b[0;34m=\u001b[0m \u001b[0;36m1\u001b[0m\u001b[0;34m\u001b[0m\u001b[0;34m\u001b[0m\u001b[0m\n\u001b[0m",
      "\u001b[0;32m<string>\u001b[0m in \u001b[0;36m__setattr__\u001b[0;34m(self, name, value)\u001b[0m\n",
      "\u001b[0;31mFrozenInstanceError\u001b[0m: cannot assign to field 'newOne'"
     ]
    }
   ],
   "source": [
    "@dataclass(frozen=True)\n",
    "class LentaArticleFrozen:\n",
    "    title: str = \"\"\n",
    "    text: str = \"\"\n",
    "    description: str = \"\"\n",
    "    time: str = \"00:00\"\n",
    "    author: str = \"No author\"\n",
    "        \n",
    "aaa = LentaArticleFrozen()\n",
    "aaa.newOne = 1"
   ]
  },
  {
   "cell_type": "markdown",
   "metadata": {},
   "source": [
    "Запустим вот такой код. И что мы увидим?"
   ]
  },
  {
   "cell_type": "code",
   "execution_count": 62,
   "metadata": {},
   "outputs": [
    {
     "ename": "ValueError",
     "evalue": "mutable default <class 'list'> for field author is not allowed: use default_factory",
     "output_type": "error",
     "traceback": [
      "\u001b[0;31m---------------------------------------------------------------------------\u001b[0m",
      "\u001b[0;31mValueError\u001b[0m                                Traceback (most recent call last)",
      "\u001b[0;32m/tmp/ipykernel_75332/662127301.py\u001b[0m in \u001b[0;36m<module>\u001b[0;34m\u001b[0m\n\u001b[1;32m      1\u001b[0m \u001b[0;34m@\u001b[0m\u001b[0mdataclass\u001b[0m\u001b[0;34m(\u001b[0m\u001b[0;34m)\u001b[0m\u001b[0;34m\u001b[0m\u001b[0;34m\u001b[0m\u001b[0m\n\u001b[0;32m----> 2\u001b[0;31m \u001b[0;32mclass\u001b[0m \u001b[0mLentaArticleMAuthors\u001b[0m\u001b[0;34m:\u001b[0m\u001b[0;34m\u001b[0m\u001b[0;34m\u001b[0m\u001b[0m\n\u001b[0m\u001b[1;32m      3\u001b[0m     \u001b[0mtitle\u001b[0m\u001b[0;34m:\u001b[0m \u001b[0mstr\u001b[0m\u001b[0;34m\u001b[0m\u001b[0;34m\u001b[0m\u001b[0m\n\u001b[1;32m      4\u001b[0m     \u001b[0mtext\u001b[0m\u001b[0;34m:\u001b[0m \u001b[0mstr\u001b[0m\u001b[0;34m\u001b[0m\u001b[0;34m\u001b[0m\u001b[0m\n\u001b[1;32m      5\u001b[0m     \u001b[0mdescription\u001b[0m\u001b[0;34m:\u001b[0m \u001b[0mstr\u001b[0m\u001b[0;34m\u001b[0m\u001b[0;34m\u001b[0m\u001b[0m\n",
      "\u001b[0;32m/usr/lib/python3.10/dataclasses.py\u001b[0m in \u001b[0;36mwrap\u001b[0;34m(cls)\u001b[0m\n\u001b[1;32m   1173\u001b[0m \u001b[0;34m\u001b[0m\u001b[0m\n\u001b[1;32m   1174\u001b[0m     \u001b[0;32mdef\u001b[0m \u001b[0mwrap\u001b[0m\u001b[0;34m(\u001b[0m\u001b[0mcls\u001b[0m\u001b[0;34m)\u001b[0m\u001b[0;34m:\u001b[0m\u001b[0;34m\u001b[0m\u001b[0;34m\u001b[0m\u001b[0m\n\u001b[0;32m-> 1175\u001b[0;31m         return _process_class(cls, init, repr, eq, order, unsafe_hash,\n\u001b[0m\u001b[1;32m   1176\u001b[0m                               frozen, match_args, kw_only, slots)\n\u001b[1;32m   1177\u001b[0m \u001b[0;34m\u001b[0m\u001b[0m\n",
      "\u001b[0;32m/usr/lib/python3.10/dataclasses.py\u001b[0m in \u001b[0;36m_process_class\u001b[0;34m(cls, init, repr, eq, order, unsafe_hash, frozen, match_args, kw_only, slots)\u001b[0m\n\u001b[1;32m    953\u001b[0m         \u001b[0;32melse\u001b[0m\u001b[0;34m:\u001b[0m\u001b[0;34m\u001b[0m\u001b[0;34m\u001b[0m\u001b[0m\n\u001b[1;32m    954\u001b[0m             \u001b[0;31m# Otherwise it's a field of some type.\u001b[0m\u001b[0;34m\u001b[0m\u001b[0;34m\u001b[0m\u001b[0m\n\u001b[0;32m--> 955\u001b[0;31m             \u001b[0mcls_fields\u001b[0m\u001b[0;34m.\u001b[0m\u001b[0mappend\u001b[0m\u001b[0;34m(\u001b[0m\u001b[0m_get_field\u001b[0m\u001b[0;34m(\u001b[0m\u001b[0mcls\u001b[0m\u001b[0;34m,\u001b[0m \u001b[0mname\u001b[0m\u001b[0;34m,\u001b[0m \u001b[0mtype\u001b[0m\u001b[0;34m,\u001b[0m \u001b[0mkw_only\u001b[0m\u001b[0;34m)\u001b[0m\u001b[0;34m)\u001b[0m\u001b[0;34m\u001b[0m\u001b[0;34m\u001b[0m\u001b[0m\n\u001b[0m\u001b[1;32m    956\u001b[0m \u001b[0;34m\u001b[0m\u001b[0m\n\u001b[1;32m    957\u001b[0m     \u001b[0;32mfor\u001b[0m \u001b[0mf\u001b[0m \u001b[0;32min\u001b[0m \u001b[0mcls_fields\u001b[0m\u001b[0;34m:\u001b[0m\u001b[0;34m\u001b[0m\u001b[0;34m\u001b[0m\u001b[0m\n",
      "\u001b[0;32m/usr/lib/python3.10/dataclasses.py\u001b[0m in \u001b[0;36m_get_field\u001b[0;34m(cls, a_name, a_type, default_kw_only)\u001b[0m\n\u001b[1;32m    810\u001b[0m     \u001b[0;31m# For real fields, disallow mutable defaults for known types.\u001b[0m\u001b[0;34m\u001b[0m\u001b[0;34m\u001b[0m\u001b[0m\n\u001b[1;32m    811\u001b[0m     \u001b[0;32mif\u001b[0m \u001b[0mf\u001b[0m\u001b[0;34m.\u001b[0m\u001b[0m_field_type\u001b[0m \u001b[0;32mis\u001b[0m \u001b[0m_FIELD\u001b[0m \u001b[0;32mand\u001b[0m \u001b[0misinstance\u001b[0m\u001b[0;34m(\u001b[0m\u001b[0mf\u001b[0m\u001b[0;34m.\u001b[0m\u001b[0mdefault\u001b[0m\u001b[0;34m,\u001b[0m \u001b[0;34m(\u001b[0m\u001b[0mlist\u001b[0m\u001b[0;34m,\u001b[0m \u001b[0mdict\u001b[0m\u001b[0;34m,\u001b[0m \u001b[0mset\u001b[0m\u001b[0;34m)\u001b[0m\u001b[0;34m)\u001b[0m\u001b[0;34m:\u001b[0m\u001b[0;34m\u001b[0m\u001b[0;34m\u001b[0m\u001b[0m\n\u001b[0;32m--> 812\u001b[0;31m         raise ValueError(f'mutable default {type(f.default)} for field '\n\u001b[0m\u001b[1;32m    813\u001b[0m                          f'{f.name} is not allowed: use default_factory')\n\u001b[1;32m    814\u001b[0m \u001b[0;34m\u001b[0m\u001b[0m\n",
      "\u001b[0;31mValueError\u001b[0m: mutable default <class 'list'> for field author is not allowed: use default_factory"
     ]
    }
   ],
   "source": [
    "@dataclass()\n",
    "class LentaArticleMAuthors:\n",
    "    title: str\n",
    "    text: str\n",
    "    description: str\n",
    "    time: str = \"00:00\"\n",
    "    author: str = []"
   ]
  },
  {
   "cell_type": "markdown",
   "metadata": {},
   "source": [
    "1. Никто не следит за типами значений.\n",
    "2. Присваивать мутабельные типы нельзя. Предлагают использовать `default_factory`."
   ]
  },
  {
   "cell_type": "code",
   "execution_count": 72,
   "metadata": {},
   "outputs": [],
   "source": [
    "from dataclasses import field\n",
    "\n",
    "@dataclass()\n",
    "class LentaArticleMAuthors:\n",
    "    title: str\n",
    "    text: str\n",
    "    description: str\n",
    "    time: str = \"00:00\"\n",
    "    author: list[str] = field(default_factory=list)"
   ]
  },
  {
   "cell_type": "code",
   "execution_count": 71,
   "metadata": {},
   "outputs": [
    {
     "data": {
      "text/plain": [
       "['__annotations__',\n",
       " '__class__',\n",
       " '__dataclass_fields__',\n",
       " '__dataclass_params__',\n",
       " '__delattr__',\n",
       " '__dict__',\n",
       " '__dir__',\n",
       " '__doc__',\n",
       " '__eq__',\n",
       " '__format__',\n",
       " '__ge__',\n",
       " '__getattribute__',\n",
       " '__gt__',\n",
       " '__hash__',\n",
       " '__init__',\n",
       " '__init_subclass__',\n",
       " '__le__',\n",
       " '__lt__',\n",
       " '__match_args__',\n",
       " '__module__',\n",
       " '__ne__',\n",
       " '__new__',\n",
       " '__reduce__',\n",
       " '__reduce_ex__',\n",
       " '__repr__',\n",
       " '__setattr__',\n",
       " '__sizeof__',\n",
       " '__str__',\n",
       " '__subclasshook__',\n",
       " '__weakref__',\n",
       " 'tttt']"
      ]
     },
     "execution_count": 71,
     "metadata": {},
     "output_type": "execute_result"
    }
   ],
   "source": [
    "class My2:\n",
    "    ttt = []\n",
    "    \n",
    "@dataclass\n",
    "class My3:\n",
    "    tttt: My2 = My2\n",
    "        \n",
    "aaa = My3()\n",
    "dir(aaa)"
   ]
  },
  {
   "cell_type": "code",
   "execution_count": null,
   "metadata": {},
   "outputs": [],
   "source": []
  },
  {
   "cell_type": "markdown",
   "metadata": {},
   "source": [
    "## А теперь наследование"
   ]
  },
  {
   "cell_type": "markdown",
   "metadata": {},
   "source": [
    "Класс может наследоваться (быть *наследником* или *дочерним классом*) от другого класса (*базового* или *родительского*). В этом случае он получает все методы и свойства, которые были у базового класса. Он может добавлять новые методы и свойства, а также переопределять старые.\n",
    "\n",
    "Для инициализации базового класса в конструкторе следует вызывать `ИмяБазовогоКласса.__init__(self)` или (что гораздо лучше) `super().__init__()`."
   ]
  },
  {
   "cell_type": "code",
   "execution_count": 120,
   "metadata": {},
   "outputs": [],
   "source": [
    "class A: # Базовый класс.\n",
    "    def __init__(self):\n",
    "        self.asd = \"\"\n",
    "        self.zxc = 0.0\n",
    "        \n",
    "    def ret_asd(self):\n",
    "        return self.asd\n",
    "    \n",
    "    def ret_zxc(self):\n",
    "        return self.zxc\n",
    "    \n",
    "class B(A): # Новый класс В, который будет наследником А.\n",
    "    def __init__(self):\n",
    "#         self.zxc = 0.0\n",
    "        A.__init__(self)\n",
    "        self.asd = \"1\"\n",
    "        self.qwe = 0\n",
    "        \n",
    "    def ret_qwe(self): # Новая функция.\n",
    "        return self.qwe\n",
    "    \n",
    "    def ret_asd(self): # Переопределяем поведение функции в данном классе.\n",
    "        return self.asd + '1'\n",
    "    \n",
    "class C(B):\n",
    "    def __init__(self):\n",
    "        super().__init__()\n",
    "        self.zxc = 0.0\n",
    "        self.asd = \"2\"\n",
    "        self.qwe = 0\n",
    "        self.poi = 100\n",
    "        \n",
    "    def ret_poi(self):\n",
    "        return self.poi\n",
    "\n",
    "#     def ret_asd(self):\n",
    "#         return self.asd + '2'\n",
    "    \n",
    "    \n",
    "class D(C, B): # Наследоваться можно от нескольких классов.\n",
    "    \n",
    "    def __init__(self):\n",
    "        super().__init__()\n",
    "        "
   ]
  },
  {
   "cell_type": "code",
   "execution_count": 121,
   "metadata": {},
   "outputs": [],
   "source": [
    "aaa = A()\n",
    "bbb = B()\n",
    "ccc = C()"
   ]
  },
  {
   "cell_type": "code",
   "execution_count": 122,
   "metadata": {},
   "outputs": [
    {
     "data": {
      "text/plain": [
       "('11', '', 0.0, 0.0, '21')"
      ]
     },
     "execution_count": 122,
     "metadata": {},
     "output_type": "execute_result"
    }
   ],
   "source": [
    "bbb.ret_asd(), aaa.ret_asd(), aaa.ret_zxc(), bbb.ret_zxc(), ccc.ret_asd()"
   ]
  },
  {
   "cell_type": "code",
   "execution_count": 125,
   "metadata": {},
   "outputs": [
    {
     "name": "stdout",
     "output_type": "stream",
     "text": [
      "A\n"
     ]
    },
    {
     "data": {
      "text/plain": [
       "(__main__.C, __main__.A, __main__.B, object)"
      ]
     },
     "execution_count": 125,
     "metadata": {},
     "output_type": "execute_result"
    }
   ],
   "source": [
    "class A:\n",
    "    def first(self):\n",
    "        print('A')\n",
    "        \n",
    "class B:\n",
    "    def first(self):\n",
    "        print('B')\n",
    "        \n",
    "class C(A, B):\n",
    "    pass\n",
    "\n",
    "c = C()\n",
    "c.first()\n",
    "C.__mro__ # В каком порядке он будет искать функции."
   ]
  },
  {
   "cell_type": "markdown",
   "metadata": {},
   "source": [
    "Пусть у нас есть два фрагмента кода, которые выкачивают Ленту.ру и N+1. Как это выглядит показано ниже. Давайте попытаемся сделать что-то получше с учетом того, что на свете существует наследование."
   ]
  },
  {
   "cell_type": "code",
   "execution_count": 124,
   "metadata": {},
   "outputs": [],
   "source": [
    "import re # Регулярные выражения.\n",
    "import requests # Загрузка новостей с сайта.\n",
    "from bs4 import BeautifulSoup # Превращалка html в текст.\n",
    "import pymorphy2 # Морфологический анализатор.\n",
    "import datetime # Новости будем перебирать по дате.\n",
    "from collections import Counter # Не считать же частоты самим.\n",
    "import math # Корень квадратный."
   ]
  },
  {
   "cell_type": "markdown",
   "metadata": {},
   "source": [
    "Это класс для загрузки Ленты.ру. Он позволяет загрузить статьи с сайта, сохранить их в файл считать этот файл, создать частотный словарь новостей.\n",
    "\n",
    "Класс хранит все новости, заголовки и словари в отдельных списках."
   ]
  },
  {
   "cell_type": "code",
   "execution_count": 7,
   "metadata": {},
   "outputs": [],
   "source": [
    "class getNewsPaper:\n",
    "        \n",
    "    # Конструктор - вызывается при создании объекта и инициализирует его.\n",
    "    def __init__(self, filename=None):\n",
    "        self.articles = []     # Загруженные статьи.\n",
    "        self.titles = []       # Заголовки статей.\n",
    "        self.dictionaries = [] # Словари для каждой из статей.\n",
    "        # Создаем и загружаем морфологический словарь.\n",
    "        self.morph = pymorphy2.MorphAnalyzer()\n",
    "        if filename != None:\n",
    "            self.loadArticles(filename)\n",
    "\n",
    "    # Загрузка статьи по URL.\n",
    "    def getLentaArticle(self, url):\n",
    "        \"\"\" getLentaArticle gets the body of an article from Lenta.ru\"\"\"\n",
    "        # Получает текст страницы.\n",
    "        resp = requests.get(url)\n",
    "        # Загружаем текст в объект типа BeautifulSoup.\n",
    "        bs = BeautifulSoup(resp.text, \"html5lib\") \n",
    "        # Получаем заголовок статьи.\n",
    "        self.titles.append(bs.h1.text.replace(\"\\xa0\", \" \"))\n",
    "        # Получаем текст статьи.\n",
    "        self.articles.append(BeautifulSoup(\" \".join(\n",
    "                    [p.text for p in bs.find_all(\"p\")]), \"html5lib\").get_text().replace(\"\\xa0\", \" \"))\n",
    "\n",
    "    # Загрузка всех статей за один день.\n",
    "    def getLentaDay(self, url):\n",
    "        \"\"\" Gets all URLs for a given day and gets all texts. \"\"\"\n",
    "        try:\n",
    "            # Грузим страницу со списком всех статей.\n",
    "            day = requests.get(url) \n",
    "            # Получаем фрагменты с нужными нам адресами статей.\n",
    "            h3s = BeautifulSoup(day.text, \"html5lib\").find_all(\"h3\")\n",
    "            # Получаем все адреса на статьи за день.\n",
    "            links = [\"http://lenta.ru\"+l.find_all(\"a\")[0][\"href\"] for l in h3s]\n",
    "            # Загружаем статьи.\n",
    "            for l in links:\n",
    "                self.getLentaArticle(l)\n",
    "        except:\n",
    "            pass\n",
    "\n",
    "    # Загрузка всех статей за несколько дней.\n",
    "    def getLentaPeriod(self, start, finish):\n",
    "        curdate = start\n",
    "        while curdate <= finish:\n",
    "            print(curdate.strftime('%Y/%m/%d')) # Just in case.\n",
    "            # Список статей грузится с вот такого адреса.\n",
    "            self.getLentaDay(f\"https://lenta.ru/news/{curdate.strftime('%Y/%m/%d')}\")\n",
    "            curdate += datetime.timedelta(days=1)\n",
    "\n",
    "    # Построение вектора для статьи.\n",
    "    posConv = {'ADJF': '_ADJ', 'NOUN': '_NOUN', 'VERB': '_VERB'}\n",
    "    def getArticleDictionary(self, text, needPos=None):\n",
    "        words = [a[0] for a in re.findall(\"([А-ЯЁа-яё]+(-[А-ЯЁа-яё]+)*)\", text)]\n",
    "        reswords = []\n",
    "    \n",
    "        for w in words:\n",
    "            wordform = self.morph.parse(w)[0]\n",
    "            try:\n",
    "                if wordform.tag.POS in ['ADJF', 'NOUN', 'VERB']:\n",
    "                    if needPos != None:\n",
    "                        reswords.append(wordform.normal_form+self.posConv[wordform.tag.POS])\n",
    "                    else:\n",
    "                        reswords.append(wordform.normal_form)\n",
    "            except:\n",
    "                pass\n",
    "            \n",
    "        stat = Counter(reswords)\n",
    "        # Берем только слова с частотой больше 1.\n",
    "        stat = {a: stat[a] for a in stat.keys() if stat[a]>1}\n",
    "        return stat\n",
    "\n",
    "    # Посчитаем вектора для всех статей.\n",
    "    def calcArticleDictionaries(self, needPos=None):\n",
    "        self.dictionaries = []\n",
    "        for a in self.articles:\n",
    "            self.dictionaries.append(self.getArticleDictionary(a, needPos))\n",
    "            \n",
    "    # Сохраняем статьи в файл.\n",
    "    def saveArticles(self, filename):\n",
    "        \"\"\" Saves all articles to a file with a filename. \"\"\"\n",
    "        newsfile = open(filename, \"w\")\n",
    "        for art, titl in zip(self.articles, self.titles):\n",
    "            newsfile.write('\\n=====\\n'+titl)\n",
    "            newsfile.write('\\n-----\\n'+art)\n",
    "        newsfile.close()\n",
    "\n",
    "    # Читаем статьи из файла.\n",
    "    def loadArticles(self, filename):\n",
    "        \"\"\" Loads and replaces all articles from a file with a filename. \"\"\"\n",
    "        newsfile = open(filename, encoding=\"utf-8\")\n",
    "        text = newsfile.read()\n",
    "        self.articles = text.split('\\n=====\\n')[1:]\n",
    "        for i, a in enumerate(self.articles):\n",
    "            b, self.articles[i] = a.split('\\n-----\\n')\n",
    "            self.titles.append(b)\n",
    "        newsfile.close()\n",
    "\n",
    "    # Для удобства - поиск статьи по ее заголовку.\n",
    "    def findNewsByTitle(self, title):\n",
    "        if title in self.titles:\n",
    "            return self.titles.index(title)\n",
    "        else:\n",
    "            return -1"
   ]
  },
  {
   "cell_type": "markdown",
   "metadata": {},
   "source": [
    "Это класс для загрузки сайта N+1.ru. Его структура очень сильно схожа со структурой Ленты.ру, именно поэтому мы его и берем. \n",
    "\n",
    "Здесь заведен тип под новостную заметку, так как для нее хранится гораздо больше информации: время, дата, рубрика, сложность, автор, заголовок, текст. Помимо этого, статья умеет сохранять себя в [JSON](https://ruseller.com/lessons.php?id=1212) (без использования соответствующей [библиотеки](https://pythonworld.ru/moduli/modul-json.html)) и словарь Питона.\n",
    "\n",
    "Дальше идут две функции, которые выгружают отдельную статью и все статьи за день."
   ]
  },
  {
   "cell_type": "code",
   "execution_count": 12,
   "metadata": {},
   "outputs": [],
   "source": [
    "delcom=re.compile(\"<!--.+-->\", re.S)\n",
    "\n",
    "# Класс, хранящий информацию о статье.\n",
    "class NPlus1Article:\n",
    "    def __init__(self):\n",
    "        self.time = \"\"\n",
    "        self.date = \"\"\n",
    "        self.rubr = \"\"\n",
    "        self.diff = \"\"\n",
    "        self.author = \"\"\n",
    "        self.title = \"\"\n",
    "        self.text = \"\"\n",
    "        \n",
    "    # Конвертация в JSON.\n",
    "    def toJSON(self):\n",
    "        res = f'{{\"date\":\"{self.date}\", \"time\":\"{self.time}\", \"rubrics\":\"{self.rubr}\", \"difficulty\":\"'\\\n",
    "              f'{self.diff}\", \"title\":\"{self.head}\", \"author\":\"{self.author}\",\"text\":\"'\n",
    "        res += self.text.replace('\"', '\\\\\"') + '\"}'\n",
    "        return res\n",
    "\n",
    "    # Конвертация в словарь.\n",
    "    def toDict(self):\n",
    "        res={\"date\": self.date, \"time\": self.time, \"rubrics\": self.rubr, \"difficulty\": self.diff, \\\n",
    "             \"title\" :self.head, \"author\": self.author,\"text\": self.text.replace('\"', '\\\\\"')}\n",
    "        return res\n",
    "    \n",
    "def getArticleTextNPlus1(adr):\n",
    "    r = requests.get(adr)\n",
    "    #print(r.text)\n",
    "    art = NPlus1Article()\n",
    "    tables = re.split(\"</div>\",re.split('=\"tables\"', r.text)[1])[0]\n",
    "    t1 = re.split(\"</time>\", re.split(\"<time\", tables)[1])[0]\n",
    "    art.time = re.split(\"</span>\", re.split(\"<span>\", t1)[1])[0]\n",
    "    art.date = re.split(\"</span>\", re.split(\"<span>\", t1)[2])[0]\n",
    "    art.rubr = re.findall(\"<a data-rubric.+?>(.+?)</a>\", r.text)[0]\n",
    "    art.diff = re.split(\"</span>\", re.split('\"difficult-value\">', tables)[1])[0]\n",
    "    art.head = re.split(\"</h1>\",re.split('<h1>', r.text)[1])[0]\n",
    "    art.author = re.split('\" />',re.split('<meta name=\"author\" content=\"', r.text)[1])[0]\n",
    "    art.text = re.split(\"</div>\", re.split(\"</figure>\", re.split('</article>',re.split('<article', r.text)[1])[0])[1])[1]    \n",
    "\n",
    "    beaux_text = BeautifulSoup(art.text, \"html5lib\")\n",
    "    art.text = delcom.sub(\"\", beaux_text.get_text() )\n",
    "    art.text = art.text.replace('\\xa0', ' ')\n",
    "\n",
    "    return art\n",
    "\n",
    "def getDayArticles(adr):\n",
    "    r = requests.get(adr)\n",
    "    titles = BeautifulSoup(r.text, \"html5lib\")(\"article\")\n",
    "    addrs = [\"https://nplus1.ru/\"+a(\"a\")[0][\"href\"] for a in titles]\n",
    "    articles = []\n",
    "    for adr in addrs:\n",
    "        articles.append(getArticleTextNPlus1(adr))\n",
    "    return articles"
   ]
  },
  {
   "cell_type": "markdown",
   "metadata": {},
   "source": [
    "Давайте для начала откажемся от классов, которые выкачивают данные, и сосредоточимся на самих данных, которые они возвращают. Давайте считать, что заголовок и текст есть у любой статьи, а всё остальное - это дополнительные детали, зависящие от конкретного сайта.\n",
    "\n",
    "Создадим класс базовой статьи, который будет содержать в себе только два поля. [Унаследуем](https://o7planning.org/ru/11417/inheritance-and-polymorphism-in-python) от него класс статьи для N+1 - NPlus1Article. Теперь можно считать, что любая функция возвращает объект, который ведет себя как объект BaseArticle - у него есть поля title и text.\n",
    "\n",
    "В конструкторе NPlus1Article вызывается конструктор базового класса. При помощи функции `super()` мы обращаемся к объекты как к объекту родительского класса (нам даже не важно знать какого).\n",
    "\n",
    "----\n",
    "\n",
    "Вообще, наследование необходимо для трех вещей:\n",
    "- расширить функционал или набор данных имеющегося класса;\n",
    "- взять несколько классов с общей частью и выделить ее в единый базовый класс **с выделением соответствующей сущности**.\n",
    "- обеспечить единый интерфейс для классов-наследников (это скорее подход для [языков группы Вирта](https://habr.com/ru/post/303380/), в Питоне часто используется интерфейс по договоренности, но наследование помогает упросить понимание)."
   ]
  },
  {
   "cell_type": "markdown",
   "metadata": {},
   "source": [
    "Что такое [super](https://habr.com/ru/company/skillfactory/blog/683744/)? Или [вот](https://habr.com/ru/company/piter/blog/592127/). Или из чего постарше, но [попроще](https://habr.com/ru/post/62203/)."
   ]
  },
  {
   "cell_type": "code",
   "execution_count": 14,
   "metadata": {},
   "outputs": [],
   "source": [
    "# Почему бы не положить сюда сохранение в словарь и \n",
    "class BaseArticle:\n",
    "    def __init__(self):\n",
    "        print(type(super()))\n",
    "        self.title=\"\"\n",
    "        self.text=\"\"\n",
    "        \n",
    "    def getSuper3(self):\n",
    "        return super()\n",
    "        \n",
    "class NPlus1Article(BaseArticle):\n",
    "    def __init__(self):\n",
    "        super().__init__()\n",
    "        self.title += \"---\"\n",
    "        self.time=\"\"\n",
    "        self.date=\"\"\n",
    "        self.rubr=\"\"\n",
    "        self.diff=\"\"\n",
    "        self.author=\"\"\n",
    "        \n",
    "    def getSuper(self):\n",
    "        return super(NPlus1Article, self)\n",
    "        \n",
    "    def getSuper2(self):\n",
    "        return super(BaseArticle)\n"
   ]
  },
  {
   "cell_type": "code",
   "execution_count": 11,
   "metadata": {},
   "outputs": [
    {
     "name": "stdout",
     "output_type": "stream",
     "text": [
      "<class 'super'>\n"
     ]
    }
   ],
   "source": [
    "rrr = BaseArticle()"
   ]
  },
  {
   "cell_type": "code",
   "execution_count": 12,
   "metadata": {},
   "outputs": [
    {
     "data": {
      "text/plain": [
       "<super: __main__.NPlus1Article, <__main__.NPlus1Article at 0x7f265daf9100>>"
      ]
     },
     "execution_count": 12,
     "metadata": {},
     "output_type": "execute_result"
    }
   ],
   "source": [
    "rr = NPlus1Article()\n",
    "rr.getSuper()\n",
    "#dir(rr)"
   ]
  },
  {
   "cell_type": "code",
   "execution_count": 3,
   "metadata": {},
   "outputs": [
    {
     "data": {
      "text/plain": [
       "<__main__.NPlus1Article at 0x7fad00adc6a0>"
      ]
     },
     "execution_count": 3,
     "metadata": {},
     "output_type": "execute_result"
    }
   ],
   "source": [
    "rr"
   ]
  },
  {
   "cell_type": "code",
   "execution_count": 6,
   "metadata": {},
   "outputs": [
    {
     "data": {
      "text/plain": [
       "'super'"
      ]
     },
     "execution_count": 6,
     "metadata": {},
     "output_type": "execute_result"
    }
   ],
   "source": [
    "rr2=NPlus1Article()\n",
    "rr2.getSuper3().__class__.__name__"
   ]
  },
  {
   "cell_type": "code",
   "execution_count": 9,
   "metadata": {},
   "outputs": [
    {
     "data": {
      "text/plain": [
       "type"
      ]
     },
     "execution_count": 9,
     "metadata": {},
     "output_type": "execute_result"
    }
   ],
   "source": [
    "type(rr2.__class__)#.__name__"
   ]
  },
  {
   "cell_type": "code",
   "execution_count": 10,
   "metadata": {},
   "outputs": [
    {
     "data": {
      "text/plain": [
       "<__main__.NPlus1Article at 0x7fad00af0b70>"
      ]
     },
     "execution_count": 10,
     "metadata": {},
     "output_type": "execute_result"
    }
   ],
   "source": [
    "rr3 = rr2.__class__()\n",
    "rr3"
   ]
  },
  {
   "cell_type": "code",
   "execution_count": 13,
   "metadata": {},
   "outputs": [
    {
     "data": {
      "text/plain": [
       "<super: __main__.NPlus1Article, <__main__.NPlus1Article at 0x7fad00af0a90>>"
      ]
     },
     "execution_count": 13,
     "metadata": {},
     "output_type": "execute_result"
    }
   ],
   "source": [
    "rr4 = rr2.getSuper()\n",
    "rr4"
   ]
  },
  {
   "cell_type": "code",
   "execution_count": 8,
   "metadata": {},
   "outputs": [
    {
     "data": {
      "text/plain": [
       "['__class__',\n",
       " '__delattr__',\n",
       " '__dict__',\n",
       " '__dir__',\n",
       " '__doc__',\n",
       " '__eq__',\n",
       " '__format__',\n",
       " '__ge__',\n",
       " '__getattribute__',\n",
       " '__gt__',\n",
       " '__hash__',\n",
       " '__init__',\n",
       " '__init_subclass__',\n",
       " '__le__',\n",
       " '__lt__',\n",
       " '__module__',\n",
       " '__ne__',\n",
       " '__new__',\n",
       " '__reduce__',\n",
       " '__reduce_ex__',\n",
       " '__repr__',\n",
       " '__setattr__',\n",
       " '__sizeof__',\n",
       " '__str__',\n",
       " '__subclasshook__',\n",
       " '__weakref__',\n",
       " 'author',\n",
       " 'date',\n",
       " 'diff',\n",
       " 'getSuper',\n",
       " 'rubr',\n",
       " 'time']"
      ]
     },
     "execution_count": 8,
     "metadata": {},
     "output_type": "execute_result"
    }
   ],
   "source": [
    "dir(NPlus1Article())"
   ]
  },
  {
   "cell_type": "code",
   "execution_count": null,
   "metadata": {},
   "outputs": [],
   "source": []
  },
  {
   "cell_type": "code",
   "execution_count": null,
   "metadata": {},
   "outputs": [],
   "source": []
  },
  {
   "cell_type": "markdown",
   "metadata": {},
   "source": [
    "Оформим загрузку статей как функции и напишем еще одну, которая выгружает статью в JSON, список выгружаемых полей зависит от типа переменной. Проверка типа проводится при помощи функции `isinstance`."
   ]
  },
  {
   "cell_type": "code",
   "execution_count": 24,
   "metadata": {},
   "outputs": [],
   "source": [
    "def getArticleTextNPlus1(adr):\n",
    "    r = requests.get(adr)\n",
    "    #print(r.text)\n",
    "    art = NPlus1Article()\n",
    "#     tables = re.split(\"</div>\",re.split('=\"tables\"', r.text)[1])[0]\n",
    "#     t1 = re.split(\"</time>\", re.split(\"<time\", tables)[1])[0]\n",
    "#     art.time = re.split(\"</span>\", re.split(\"<span>\", t1)[1])[0]\n",
    "    art.time = \"12.34.5678\"\n",
    "#     art.date = re.split(\"</span>\", re.split(\"<span>\", t1)[2])[0]\n",
    "    art.date = \"1234\"\n",
    "#     art.rubr = re.findall(\"<a data-rubric.+?>(.+?)</a>\", r.text)[0]\n",
    "    art.rubr = \"7hfgedgtr\"\n",
    "#     art.diff = re.split(\"</span>\", re.split('\"difficult-value\">', tables)[1])[0]\n",
    "    art.diff = \"5\"\n",
    "#     art.head = re.split(\"</h1>\",re.split('<h1>', r.text)[1])[0]\n",
    "    art.head = \"header\"\n",
    "#     art.author = re.split('\" />',re.split('<meta name=\"author\" content=\"', r.text)[1])[0]\n",
    "    art.author = \"ivanoff\"\n",
    "#     art.text = re.split(\"</div>\", re.split(\"</figure>\", re.split('</article>',re.split('<article', r.text)[1])[0])[1])[1]    \n",
    "    art.text = \"Some text\"\n",
    "\n",
    "#     beaux_text = BeautifulSoup(art.text, \"html5lib\")\n",
    "#     art.text = delcom.sub(\"\", beaux_text.get_text() )\n",
    "#     art.text = art.text.replace('\\xa0', ' ')\n",
    "\n",
    "    # print(art.n_time, art.n_date, art.n_rubr, art.n_diff)\n",
    "    # print(art.n_head)\n",
    "    # print(art.n_author)\n",
    "    # print(art.n_text)\n",
    "    #return [n_time, n_date, n_rubr, n_diff, n_author, n_head, n_text]\n",
    "    return art\n",
    "\n",
    "def getLentaArticle(url):\n",
    "    \"\"\" getLentaArticle gets the body of an article from Lenta.ru\"\"\"\n",
    "    # Получает текст страницы.\n",
    "    resp=requests.get(url)\n",
    "    # Загружаем текст в объект типа BeautifulSoup.\n",
    "    bs=BeautifulSoup(resp.text, \"html5lib\")\n",
    "    art=BaseArticle()\n",
    "    art.title=bs.h1.text.replace(\"\\xa0\", \" \")\n",
    "    art.text=BeautifulSoup(\" \".join([p.text for p in bs.find_all(\"p\")]), \"html5lib\").get_text().replace(\"\\xa0\", \" \")\n",
    "    return art\n",
    "\n",
    "def articleToJSON(art):\n",
    "    # Здесь сделаем неправильно - посмотрим на isinstance(BaseArticle), а потом elif(NPlus1Article), тогда в else не пойдет.\n",
    "    if isinstance(art , BaseArticle):\n",
    "        return '{\"title\":\"'+art.title+'\",'+\n",
    "               ' \"text\":\"'+art.text.replace('\"', '\\\\\"')+'\"}'\n",
    "    elif isinstance(art , NPlus1Article):\n",
    "        res =  f'{{\"date\":\"{art.date}\", \"time\":\"{art.time}\", \"rubrics\":\"{art.rubr}\", '\n",
    "        res += f'\"difficulty\":\"{art.diff}\", \"title\":\"{art.title}\", \"author\":\"'\n",
    "        res += art.author+'\",\"text\":\"'+art.text.replace('\"', '\\\\\"')+'\"}'\n",
    "        return res\n"
   ]
  },
  {
   "cell_type": "markdown",
   "metadata": {},
   "source": [
    "Загружаем статьи и выводим JSON."
   ]
  },
  {
   "cell_type": "code",
   "execution_count": 25,
   "metadata": {},
   "outputs": [
    {
     "name": "stdout",
     "output_type": "stream",
     "text": [
      "<class 'super'>\n",
      "<class 'super'>\n",
      "{\"title\":\"Германия научит Россию собирать мусорФото: Максим Богодвид / РИА Новости Бывший министр Германии по вопросам окружающей среды, охраны природы и защиты атомных реакторов Клаус Тепфер проконсультирует российское Минприроды по поводу утилизации мусора, пишет РБК со ссылкой на пресс-службу вице-премьера Алексея Гордеева. «Главный идеолог немецкой модели переработки и утилизации мусора выступит независимым консультантом запуска российской системы обращения с твердыми коммунальными отходами и будет экспертно сопровождать ход ее реализации», — говорится в сообщении по итогам визита Гордеева в Германию. Отмечается, что во время поездки вице-премьер ознакомился с немецкой системой сбора и переработки мусора. Благодаря ей все отходы удается перерабатывать во вторсырье, «зеленый уголь» и цветочный грунт. В России этот путь проделывают только 10 процентов отходов. По словам Гордеева, российские власти ставят перед собой задачу в несколько раз повысить эффективность переработки отходов за ближайшие шесть лет, а также полностью рекультивировать 200 свалок, расположенных в черте российских городов. Ранее в ходе послания к Федеральному собранию президент Владимир Путин потребовал навести порядок в сфере сбора и переработки мусора. С 2019 года в России проходит реформа, в рамках которой был создан «Российский экологический оператор». В его задачи будет входить: координация работы региональных операторов, финансирование проектов по обработке отходов, а также предоставление гарантий инвестиционным проектам.\"}\n",
      "{\"title\":\"---Some text\"}\n"
     ]
    }
   ],
   "source": [
    "a1 = getLentaArticle(\"https://lenta.ru/news/2019/02/20/trash/\")\n",
    "a2 = getArticleTextNPlus1(\"https://nplus1.ru/news/2019/02/20/deep-sqeak\")\n",
    "\n",
    "print(articleToJSON(a1))\n",
    "print(articleToJSON(a2))"
   ]
  },
  {
   "cell_type": "markdown",
   "metadata": {},
   "source": [
    "Оказывается, функция `isinstance` проверяет не приводится ли объект к проверяемому типу и если приводится, то возвращает True. Нам же необходимо проверить точное совпадение с типом. Для этого будем использовать конструкцию `type(a) is`. \n",
    "\n",
    "Можно, конечно, просто расставить проверки в правильном порядке, оставив базовый класс напоследок, но так больше шанс наделать ошибок."
   ]
  },
  {
   "cell_type": "code",
   "execution_count": 31,
   "metadata": {},
   "outputs": [
    {
     "data": {
      "text/plain": [
       "(False, False)"
      ]
     },
     "execution_count": 31,
     "metadata": {},
     "output_type": "execute_result"
    }
   ],
   "source": [
    "isinstance(a1, BaseArticle), isinstance(a2, NPlus1Article)\n",
    "isinstance(a2, BaseArticle), isinstance(a1, NPlus1Article)\n",
    "type(a1) is BaseArticle, type(a2) is NPlus1Article\n",
    "type(a2) is BaseArticle, type(a1) is NPlus1Article"
   ]
  },
  {
   "cell_type": "code",
   "execution_count": 17,
   "metadata": {},
   "outputs": [],
   "source": [
    "import json"
   ]
  },
  {
   "cell_type": "code",
   "execution_count": 18,
   "metadata": {},
   "outputs": [
    {
     "ename": "TypeError",
     "evalue": "Object of type BaseArticle is not JSON serializable",
     "output_type": "error",
     "traceback": [
      "\u001b[0;31m---------------------------------------------------------------------------\u001b[0m",
      "\u001b[0;31mTypeError\u001b[0m                                 Traceback (most recent call last)",
      "\u001b[0;32m/tmp/ipykernel_864515/41643079.py\u001b[0m in \u001b[0;36m<module>\u001b[0;34m\u001b[0m\n\u001b[0;32m----> 1\u001b[0;31m \u001b[0mjson\u001b[0m\u001b[0;34m.\u001b[0m\u001b[0mdumps\u001b[0m\u001b[0;34m(\u001b[0m\u001b[0ma1\u001b[0m\u001b[0;34m)\u001b[0m\u001b[0;34m\u001b[0m\u001b[0;34m\u001b[0m\u001b[0m\n\u001b[0m",
      "\u001b[0;32m/usr/lib/python3.9/json/__init__.py\u001b[0m in \u001b[0;36mdumps\u001b[0;34m(obj, skipkeys, ensure_ascii, check_circular, allow_nan, cls, indent, separators, default, sort_keys, **kw)\u001b[0m\n\u001b[1;32m    229\u001b[0m         \u001b[0mcls\u001b[0m \u001b[0;32mis\u001b[0m \u001b[0;32mNone\u001b[0m \u001b[0;32mand\u001b[0m \u001b[0mindent\u001b[0m \u001b[0;32mis\u001b[0m \u001b[0;32mNone\u001b[0m \u001b[0;32mand\u001b[0m \u001b[0mseparators\u001b[0m \u001b[0;32mis\u001b[0m \u001b[0;32mNone\u001b[0m \u001b[0;32mand\u001b[0m\u001b[0;34m\u001b[0m\u001b[0;34m\u001b[0m\u001b[0m\n\u001b[1;32m    230\u001b[0m         default is None and not sort_keys and not kw):\n\u001b[0;32m--> 231\u001b[0;31m         \u001b[0;32mreturn\u001b[0m \u001b[0m_default_encoder\u001b[0m\u001b[0;34m.\u001b[0m\u001b[0mencode\u001b[0m\u001b[0;34m(\u001b[0m\u001b[0mobj\u001b[0m\u001b[0;34m)\u001b[0m\u001b[0;34m\u001b[0m\u001b[0;34m\u001b[0m\u001b[0m\n\u001b[0m\u001b[1;32m    232\u001b[0m     \u001b[0;32mif\u001b[0m \u001b[0mcls\u001b[0m \u001b[0;32mis\u001b[0m \u001b[0;32mNone\u001b[0m\u001b[0;34m:\u001b[0m\u001b[0;34m\u001b[0m\u001b[0;34m\u001b[0m\u001b[0m\n\u001b[1;32m    233\u001b[0m         \u001b[0mcls\u001b[0m \u001b[0;34m=\u001b[0m \u001b[0mJSONEncoder\u001b[0m\u001b[0;34m\u001b[0m\u001b[0;34m\u001b[0m\u001b[0m\n",
      "\u001b[0;32m/usr/lib/python3.9/json/encoder.py\u001b[0m in \u001b[0;36mencode\u001b[0;34m(self, o)\u001b[0m\n\u001b[1;32m    197\u001b[0m         \u001b[0;31m# exceptions aren't as detailed.  The list call should be roughly\u001b[0m\u001b[0;34m\u001b[0m\u001b[0;34m\u001b[0m\u001b[0;34m\u001b[0m\u001b[0m\n\u001b[1;32m    198\u001b[0m         \u001b[0;31m# equivalent to the PySequence_Fast that ''.join() would do.\u001b[0m\u001b[0;34m\u001b[0m\u001b[0;34m\u001b[0m\u001b[0;34m\u001b[0m\u001b[0m\n\u001b[0;32m--> 199\u001b[0;31m         \u001b[0mchunks\u001b[0m \u001b[0;34m=\u001b[0m \u001b[0mself\u001b[0m\u001b[0;34m.\u001b[0m\u001b[0miterencode\u001b[0m\u001b[0;34m(\u001b[0m\u001b[0mo\u001b[0m\u001b[0;34m,\u001b[0m \u001b[0m_one_shot\u001b[0m\u001b[0;34m=\u001b[0m\u001b[0;32mTrue\u001b[0m\u001b[0;34m)\u001b[0m\u001b[0;34m\u001b[0m\u001b[0;34m\u001b[0m\u001b[0m\n\u001b[0m\u001b[1;32m    200\u001b[0m         \u001b[0;32mif\u001b[0m \u001b[0;32mnot\u001b[0m \u001b[0misinstance\u001b[0m\u001b[0;34m(\u001b[0m\u001b[0mchunks\u001b[0m\u001b[0;34m,\u001b[0m \u001b[0;34m(\u001b[0m\u001b[0mlist\u001b[0m\u001b[0;34m,\u001b[0m \u001b[0mtuple\u001b[0m\u001b[0;34m)\u001b[0m\u001b[0;34m)\u001b[0m\u001b[0;34m:\u001b[0m\u001b[0;34m\u001b[0m\u001b[0;34m\u001b[0m\u001b[0m\n\u001b[1;32m    201\u001b[0m             \u001b[0mchunks\u001b[0m \u001b[0;34m=\u001b[0m \u001b[0mlist\u001b[0m\u001b[0;34m(\u001b[0m\u001b[0mchunks\u001b[0m\u001b[0;34m)\u001b[0m\u001b[0;34m\u001b[0m\u001b[0;34m\u001b[0m\u001b[0m\n",
      "\u001b[0;32m/usr/lib/python3.9/json/encoder.py\u001b[0m in \u001b[0;36miterencode\u001b[0;34m(self, o, _one_shot)\u001b[0m\n\u001b[1;32m    255\u001b[0m                 \u001b[0mself\u001b[0m\u001b[0;34m.\u001b[0m\u001b[0mkey_separator\u001b[0m\u001b[0;34m,\u001b[0m \u001b[0mself\u001b[0m\u001b[0;34m.\u001b[0m\u001b[0mitem_separator\u001b[0m\u001b[0;34m,\u001b[0m \u001b[0mself\u001b[0m\u001b[0;34m.\u001b[0m\u001b[0msort_keys\u001b[0m\u001b[0;34m,\u001b[0m\u001b[0;34m\u001b[0m\u001b[0;34m\u001b[0m\u001b[0m\n\u001b[1;32m    256\u001b[0m                 self.skipkeys, _one_shot)\n\u001b[0;32m--> 257\u001b[0;31m         \u001b[0;32mreturn\u001b[0m \u001b[0m_iterencode\u001b[0m\u001b[0;34m(\u001b[0m\u001b[0mo\u001b[0m\u001b[0;34m,\u001b[0m \u001b[0;36m0\u001b[0m\u001b[0;34m)\u001b[0m\u001b[0;34m\u001b[0m\u001b[0;34m\u001b[0m\u001b[0m\n\u001b[0m\u001b[1;32m    258\u001b[0m \u001b[0;34m\u001b[0m\u001b[0m\n\u001b[1;32m    259\u001b[0m def _make_iterencode(markers, _default, _encoder, _indent, _floatstr,\n",
      "\u001b[0;32m/usr/lib/python3.9/json/encoder.py\u001b[0m in \u001b[0;36mdefault\u001b[0;34m(self, o)\u001b[0m\n\u001b[1;32m    177\u001b[0m \u001b[0;34m\u001b[0m\u001b[0m\n\u001b[1;32m    178\u001b[0m         \"\"\"\n\u001b[0;32m--> 179\u001b[0;31m         raise TypeError(f'Object of type {o.__class__.__name__} '\n\u001b[0m\u001b[1;32m    180\u001b[0m                         f'is not JSON serializable')\n\u001b[1;32m    181\u001b[0m \u001b[0;34m\u001b[0m\u001b[0m\n",
      "\u001b[0;31mTypeError\u001b[0m: Object of type BaseArticle is not JSON serializable"
     ]
    }
   ],
   "source": [
    "json.dumps(a1)"
   ]
  },
  {
   "cell_type": "code",
   "execution_count": 12,
   "metadata": {},
   "outputs": [
    {
     "name": "stdout",
     "output_type": "stream",
     "text": [
      "{\"title\":\"Германия научит Россию собирать мусорБывший министр Германии по вопросам окружающей среды, охраны природы и защиты атомных реакторов Клаус Тепфер проконсультирует российское Минприроды по поводу утилизации мусора, пишет РБК со ссылкой на пресс-службу вице-премьера Алексея Гордеева. «Главный идеолог немецкой модели переработки и утилизации мусора выступит независимым консультантом запуска российской системы обращения с твердыми коммунальными отходами и будет экспертно сопровождать ход ее реализации», — говорится в сообщении по итогам визита Гордеева в Германию. Отмечается, что во время поездки вице-премьер ознакомился с немецкой системой сбора и переработки мусора. Благодаря ей все отходы удается перерабатывать во вторсырье, «зеленый уголь» и цветочный грунт. В России этот путь проделывают только 10 процентов отходов. По словам Гордеева, российские власти ставят перед собой задачу в несколько раз повысить эффективность переработки отходов за ближайшие шесть лет, а также полностью рекультивировать 200 свалок, расположенных в черте российских городов. Ранее в ходе послания к Федеральному собранию президент Владимир Путин потребовал навести порядок в сфере сбора и переработки мусора. С 2019 года в России проходит реформа, в рамках которой был создан «Российский экологический оператор». В его задачи будет входить: координация работы региональных операторов, финансирование проектов по обработке отходов, а также предоставление гарантий инвестиционным проектам.\"}\n",
      "{\"date\":\"20 Фев. 2019\", \"time\":\"18:55\", \"rubrics\":\"Биология\", \"difficulty\":\"3.1\", \"title\":\"\", \"author\":\"Елизавета Ивтушок\",\"text\":\"Американские разработчики представили DeepSqeak — программу для автоматической обработки вокализации грызунов. Она работает на основе сверточных нейросетей и позволяет выделять из аудиофайлов отдельные звуки по их сонограмме, после чего классифицирует их, создавая «словарь». Статья опубликована в журнале Neuropsychopharmacology, сам алгоритм доступен в репозитории разработчиков на GitHub.Для коммуникации друг с другом грызуны используют ультразвуковую вокализацию — издают звуки с частотой от 20 килогерц. «Словарь» таких звуков у них достаточно большой: исследователи подразделяют их на слоги в зависимости от длины и частоты, а каждый из них связывают с определенной реакцией животного. К примеру, звуки с частотой 50 килогерц ассоциируются с положительной эмоциональной реакцией лабораторных крыс, а более низкие звуки — с частотой около 20 — с отрицательной. При этом у мышей коммуникационный паттерн отличается.Исследователи из Вашингтонского университета под руководством Кевина Коффи (Kevin Coffey) решили создать алгоритм, который поможет распознавать звуки, издаваемые грызунами, разделять их на слоги и классифицировать. Анализ с помощью DeepSqeak состоит из нескольких этапов: сначала из звукового файла создается сонограмма, из которой выделяются звуковые фрагменты. Так как на сонограмму может попасть и шум, далее в алгоритме используется сверточная нейросеть, которая разделяет звуковые колебания на звуки, которые издают сами грызуны, и сторонний шум. \n",
      "    \n",
      "        \n",
      "                        \n",
      "                \n",
      "                    \n",
      "                        \n",
      "                    \"}\n"
     ]
    }
   ],
   "source": [
    "def articleToJSON(art):\n",
    "    # Здесь сделаем неправильно - посмотрим на isinstance(BaseArticle), а потом elif(NPlus1Article), тогда в else не пойдет.\n",
    "    if type(art) is BaseArticle:\n",
    "        return '{\"title\":\"'+art.title+art.text.replace('\"', '\\\\\"')+'\"}'\n",
    "    elif type(art) is NPlus1Article:\n",
    "        res = '{\"date\":\"'+art.date+'\", \"time\":\"'+art.time+'\", \"rubrics\":\"'+art.rubr+'\", \"difficulty\":\"'\n",
    "        res += art.diff+'\", \"title\":\"'+art.title+'\", \"author\":\"'+art.author+'\",\"text\":\"'\n",
    "        res += art.text.replace('\"', '\\\\\"')+'\"}'\n",
    "        return res\n",
    "\n",
    "a1 = getLentaArticle(\"https://lenta.ru/news/2019/02/20/trash/\")\n",
    "a2 = getArticleTextNPlus1(\"https://nplus1.ru/news/2019/02/20/deep-sqeak\")\n",
    "\n",
    "print(articleToJSON(a1))\n",
    "print(articleToJSON(a2))"
   ]
  },
  {
   "cell_type": "markdown",
   "metadata": {},
   "source": [
    "Так работает корректней.\n",
    "\n",
    "Мы увидели, что наследование может использоваться для расширения функционала. Попробуем применить это знание к проектированию классов, которые загружают статьи. Создадим базовый класс, который умеет сохранять статьи в файл и считывать их оттуда. При этом сохраняться будут только заголовки и текст, а остальная информация, если она была, будет теряться. Также класс будет уметь строить частотные словари для статей. Дальше унаследуемся от этого класса и добавим функции работы с заданным сайтом."
   ]
  },
  {
   "cell_type": "code",
   "execution_count": 15,
   "metadata": {},
   "outputs": [],
   "source": [
    "class BaseGetNewsPaper:\n",
    "    ''' Базовый класс для загрузки статей. Обеспечивает основной функционал, но не интерфейс.\n",
    "    '''        \n",
    "    # Конструктор - вызывается при создании объекта и инициализирует его.\n",
    "    def __init__(self):\n",
    "        self.articles = []     # Загруженные статьи.\n",
    "        self.dictionaries = [] # Словари для каждой из статей.\n",
    "        # Создаем и загружаем морфологический словарь.\n",
    "        self.morph = pymorphy2.MorphAnalyzer()\n",
    "\n",
    "    # Построение вектора для статьи.\n",
    "    def getArticleDictionary(self, text, needPos=None):\n",
    "        words = [a[0] for a in re.findall(\"([А-ЯЁа-яё]+(-[А-ЯЁа-яё]+)*)\", text)]\n",
    "        reswords = []\n",
    "    \n",
    "        for w in words:\n",
    "            wordform = self.morph.parse(w)[0]\n",
    "            try:\n",
    "                if wordform.tag.POS in ['ADJF', 'NOUN', 'VERB', 'PRTF', 'GRND']:\n",
    "                    if needPos != None:\n",
    "                        reswords.append(wordform.normal_form+'_'+wordform.tag.POS)\n",
    "                    else:\n",
    "                        reswords.append(wordform.normal_form)\n",
    "            except:\n",
    "                pass\n",
    "            \n",
    "        stat = Counter(reswords)\n",
    "        # Берем только слова с частотой больше 1.\n",
    "        stat = {a: stat[a] for a in stat.keys() if stat[a]>1}\n",
    "        return stat\n",
    "\n",
    "    # Посчитаем вектора для всех статей.\n",
    "    def calcArticleDictionaries(self, needPos=None):\n",
    "        self.dictionaries = []\n",
    "        for a in self.articles:\n",
    "            self.dictionaries.append(self.getArticleDictionary(a.text, needPos))\n",
    "            \n",
    "    # Сохраняем статьи в файл.\n",
    "    def saveArticles(self, filename):\n",
    "        \"\"\" Saves all articles to a file with a filename. \"\"\"\n",
    "        newsfile = open(filename, \"w\")\n",
    "        for art in self.articles:\n",
    "            newsfile.write('\\n=====\\n'+art.title)\n",
    "            newsfile.write('\\n-----\\n'+art.text)\n",
    "        newsfile.close()\n",
    "\n",
    "    # Читаем статьи из файла.\n",
    "    def loadArticles(self, filename):\n",
    "        \"\"\" Loads and replaces all articles from a file with a filename. \"\"\"\n",
    "        newsfile = open(filename, encoding=\"utf-8\")\n",
    "        text = newsfile.read()\n",
    "        loaded = text.split('\\n=====\\n')[1:]\n",
    "        self.articles=[]\n",
    "        for i, a in enumerate(loaded):\n",
    "            self.articles.append(BaseArticle())\n",
    "            b, self.articles[i].text = a.split('\\n-----\\n')\n",
    "            self.articles[i].title = b\n",
    "        newsfile.close()\n",
    "\n",
    "class GetLenta(BaseGetNewsPaper):\n",
    "    ''' Класс для загрузки Ленты.ру.  Наследуется от BaseGetNewsPaper.\n",
    "    '''\n",
    "    # Загрузка статьи по URL.\n",
    "    def getLentaArticle(self, url):\n",
    "        \"\"\" getLentaArticle gets the body of an article from Lenta.ru\"\"\"\n",
    "        # Получает текст страницы.\n",
    "        resp = requests.get(url)\n",
    "        # Загружаем текст в объект типа BeautifulSoup.\n",
    "        bs = BeautifulSoup(resp.text, \"html5lib\") \n",
    "        \n",
    "        art = BaseArticle()\n",
    "        # Получаем заголовок статьи.\n",
    "        art.title = bs.h1.text.replace(\"\\xa0\", \" \")\n",
    "        # Получаем текст статьи.\n",
    "        art.text = BeautifulSoup(\" \".join([p.text for p in \\\n",
    "                                           bs.find_all(\"p\")]), \"html5lib\").get_text().replace(\"\\xa0\", \" \")\n",
    "        return art\n",
    "\n",
    "    # Загрузка всех статей за один день.\n",
    "    def getLentaDay(self, url):\n",
    "        \"\"\" Gets all URLs for a given day and gets all texts. \"\"\"\n",
    "        try:\n",
    "            # Грузим страницу со списком всех статей.\n",
    "            day = requests.get(url) \n",
    "            # Получаем фрагменты с нужными нам адресами статей.\n",
    "            h3s = BeautifulSoup(day.text, \"html5lib\").find_all(\"h3\")\n",
    "            # Получаем все адреса на статьи за день.\n",
    "            links = [\"http://lenta.ru\"+l.find_all(\"a\")[0][\"href\"] for l in h3s]\n",
    "            # Загружаем статьи.\n",
    "            for l in links:\n",
    "                art = self.getLentaArticle(l)\n",
    "                self.articles.append(art)\n",
    "        except:\n",
    "            pass\n",
    "\n",
    "    # Загрузка всех статей за несколько дней.\n",
    "    def getLentaPeriod(self, start, finish):\n",
    "        \"\"\"Gets articles for a period fom start to finish. \"\"\"\n",
    "        curdate = start\n",
    "        while curdate <= finish:\n",
    "            print(curdate.strftime('%Y/%m/%d')) # Just in case.\n",
    "            # Список статей грузится с вот такого адреса.\n",
    "            self.getLentaDay('https://lenta.ru/news/'+curdate.strftime('%Y/%m/%d'))\n",
    "            curdate += datetime.timedelta(days=1)\n",
    "\n",
    "class GetNPlus1(BaseGetNewsPaper):\n",
    "    ''' Класс для загрузки NPlus1.ru. Наследуется от BaseGetNewsPaper.\n",
    "    '''\n",
    "    def getArticleTextNPlus1(self, adr):\n",
    "        \"\"\"Get an article from nplus1.ru\"\"\"\n",
    "        r = requests.get(adr)\n",
    "        #print(r.text)\n",
    "        art = NPlus1Article()\n",
    "        tables = re.split(\"</div>\",re.split('=\"tables\"', r.text)[1])[0]\n",
    "        t1 = re.split(\"</time>\", re.split(\"<time\", tables)[1])[0]\n",
    "        art.time = re.split(\"</span>\", re.split(\"<span>\", t1)[1])[0]\n",
    "        art.date = re.split(\"</span>\", re.split(\"<span>\", t1)[2])[0]\n",
    "        art.rubr = re.findall(\"<a data-rubric.+?>(.+?)</a>\", r.text)[0]\n",
    "        art.diff = re.split(\"</span>\", re.split('\"difficult-value\">', tables)[1])[0]\n",
    "        art.title = re.findall(\"<h1>(.+?)</h1>\", r.text)[0]\n",
    "        art.author = re.split('\" />',re.split('<meta name=\"author\" content=\"', r.text)[1])[0]\n",
    "        art.text = re.split(\"</div>\", re.split(\"</figure>\", re.split('</article>',re.split('<article', r.text)[1])[0])[1])[1]    \n",
    "\n",
    "        beaux_text = BeautifulSoup(art.text, \"html5lib\")\n",
    "        art.text = delcom.sub(\"\", beaux_text.get_text() )\n",
    "        art.text = art.text.replace('\\xa0', ' ')\n",
    "        return art\n",
    "\n",
    "    def getNPlus1Day(self, adr):\n",
    "        \"\"\" Gwt all article for a day by its URL given in adr parameter.\"\"\"\n",
    "        r = requests.get(adr)\n",
    "        titles = BeautifulSoup(r.text, \"html5lib\")(\"article\")\n",
    "        addrs = [\"https://nplus1.ru/\"+a(\"a\")[0][\"href\"] for a in titles]\n",
    "        for adr in addrs:\n",
    "            aa = self.getArticleTextNPlus1(adr)\n",
    "            self.articles.append(aa)\n",
    "        \n",
    "    # Загрузка всех статей за несколько дней.\n",
    "    def getNPlus1Period(self, start, finish):\n",
    "        \"\"\" Gets all articles from nplus1.ru for a period from start to finish. \"\"\"\n",
    "        curdate = start\n",
    "        while curdate <= finish:\n",
    "            print(curdate.strftime('%Y/%m/%d')) # Just in case.\n",
    "            # Список статей грузится с вот такого адреса.\n",
    "            self.getNPlus1Day('https://nplus1.ru/news/'+curdate.strftime('%Y/%m/%d'))\n",
    "            curdate += datetime.timedelta(days=1)\n",
    "\n"
   ]
  },
  {
   "cell_type": "markdown",
   "metadata": {},
   "source": [
    "Протестируем как работают наши классы - загрузим три дня с обоих сайтов."
   ]
  },
  {
   "cell_type": "code",
   "execution_count": 16,
   "metadata": {},
   "outputs": [
    {
     "name": "stdout",
     "output_type": "stream",
     "text": [
      "2018/02/01\n",
      "2018/02/02\n",
      "2018/02/03\n"
     ]
    }
   ],
   "source": [
    "lenta=GetLenta()\n",
    "lenta.getLentaPeriod(datetime.date(2018, 2, 1), datetime.date(2018, 2, 3))\n",
    "lenta.saveArticles(\"data/lenta_test.txt\")"
   ]
  },
  {
   "cell_type": "code",
   "execution_count": 17,
   "metadata": {},
   "outputs": [
    {
     "name": "stdout",
     "output_type": "stream",
     "text": [
      "2018/02/01\n",
      "2018/02/02\n",
      "2018/02/03\n"
     ]
    }
   ],
   "source": [
    "n1=GetNPlus1()\n",
    "n1.getNPlus1Period(datetime.date(2018, 2, 1), datetime.date(2018, 2, 3))\n",
    "\n",
    "n1.saveArticles(\"data/nplus1_test.txt\")\n"
   ]
  },
  {
   "cell_type": "markdown",
   "metadata": {},
   "source": [
    "Прочитаем статьи из файла."
   ]
  },
  {
   "cell_type": "code",
   "execution_count": 18,
   "metadata": {},
   "outputs": [
    {
     "data": {
      "text/plain": [
       "'ДНК помогла управлять роем молекулярных моторов из микротрубочек'"
      ]
     },
     "execution_count": 18,
     "metadata": {},
     "output_type": "execute_result"
    }
   ],
   "source": [
    "n2=GetNPlus1()\n",
    "n2.loadArticles(\"data/nplus1_test.txt\")\n",
    "\n",
    "n2.articles[1].title"
   ]
  },
  {
   "cell_type": "markdown",
   "metadata": {},
   "source": [
    "Однако давать разные названия для функций, которые делают одно и то же - не очень хорошо, особенно если эти функции входят в интерфейс класса.\n",
    "\n",
    "Интерфейс (в случае Python) - это некоторые обязательства, что класс умеет выполнять определенные функции. В этом случае не важно, какой именно класс наследует. Для этого необходимо у базового класса определить необходимые функции, а в дочерних классах переопределить эти функции."
   ]
  },
  {
   "cell_type": "code",
   "execution_count": 1,
   "metadata": {},
   "outputs": [],
   "source": [
    "class BaseGetNewsPaper:\n",
    "    ''' Базовый класс для загрузки статей. Обеспечивает основной функционал и интерфейс.\n",
    "        Классы-наследники будут уметь загружать данные при помощи одного программного интерфейса.\n",
    "    '''        \n",
    "        \n",
    "    # Конструктор - вызывается при создании объекта и инициализирует его.\n",
    "    def __init__(self):\n",
    "        self.articles=[]     # Загруженные статьи.\n",
    "        self.dictionaries=[] # Словари для каждой из статей.\n",
    "        # Создаем и загружаем морфологический словарь.\n",
    "        self.morph=pymorphy2.MorphAnalyzer()\n",
    "\n",
    "    # Построение вектора для статьи.\n",
    "    def getArticleDictionary(self, text, needPos=None):\n",
    "        words=[a[0] for a in re.findall(\"([А-ЯЁа-яё]+(-[А-ЯЁа-яё]+)*)\", text)]\n",
    "        reswords=[]\n",
    "    \n",
    "        for w in words:\n",
    "            wordform=self.morph.parse(w)[0]\n",
    "            try:\n",
    "                if wordform.tag.POS in ['ADJF', 'NOUN', 'VERB', 'PRTF', 'GRND']:\n",
    "                    if needPos!=None:\n",
    "                        reswords.append(wordform.normal_form+'_'+wordform.tag.POS)\n",
    "                    else:\n",
    "                        reswords.append(wordform.normal_form)\n",
    "            except:\n",
    "                pass\n",
    "            \n",
    "        stat=Counter(reswords)\n",
    "        # Берем только слова с частотой больше 1.\n",
    "        stat={a: stat[a] for a in stat.keys() if stat[a]>1}\n",
    "        return stat\n",
    "\n",
    "    # Посчитаем вектора для всех статей.\n",
    "    def calcArticleDictionaries(self, needPos=None):\n",
    "        self.dictionaries=[]\n",
    "        for a in self.articles:\n",
    "            self.dictionaries.append(self.getArticleDictionary(a.text, needPos))\n",
    "            \n",
    "\n",
    "    # Загрузить новости за период.\n",
    "    # Эта функция объявлена для совместимости и интерфейса.\n",
    "    def getPeriod(self, start, finish):\n",
    "        print(\"Nothing to do.\")\n",
    "    \n",
    "    # Сохраняем статьи в файл.\n",
    "    def saveArticles(self, filename):\n",
    "        \"\"\" Saves all articles to a file with a filename. \"\"\"\n",
    "        newsfile = open(filename, \"w\")\n",
    "        for art in self.articles:\n",
    "            newsfile.write('\\n=====\\n'+art.title)\n",
    "            newsfile.write('\\n-----\\n'+art.text)\n",
    "        newsfile.close()\n",
    "\n",
    "    # Читаем статьи из файла.\n",
    "    def loadArticles(self, filename):\n",
    "        \"\"\" Loads and replaces all articles from a file with a filename. \"\"\"\n",
    "        newsfile = open(filename, encoding=\"utf-8\")\n",
    "        text = newsfile.read()\n",
    "        loaded = text.split('\\n=====\\n')[1:]\n",
    "        self.articles=[]\n",
    "        for i, a in enumerate(loaded):\n",
    "            self.articles.append(BaseArticle())\n",
    "            b, self.articles[i].text = a.split('\\n-----\\n')\n",
    "            self.articles[i].title = b\n",
    "        newsfile.close()\n",
    "        \n",
    "class GetLenta(BaseGetNewsPaper):\n",
    "    ''' Класс для загрузки Ленты.ру.  Наследуется от BaseGetNewsPaper.\n",
    "    '''\n",
    "\n",
    "    # Загрузка статьи по URL.\n",
    "    def getLentaArticle(self, url):\n",
    "        \"\"\" getLentaArticle gets the body of an article from Lenta.ru\"\"\"\n",
    "        # Получает текст страницы.\n",
    "        resp=requests.get(url)\n",
    "        # Загружаем текст в объект типа BeautifulSoup.\n",
    "        bs=BeautifulSoup(resp.text, \"html5lib\") \n",
    "        \n",
    "        art=BaseArticle()\n",
    "        # Получаем заголовок статьи.\n",
    "        art.title=bs.h1.text.replace(\"\\xa0\", \" \")\n",
    "        # Получаем текст статьи.\n",
    "        art.text=BeautifulSoup(\" \".join([p.text for p in bs.find_all(\"p\")]), \"html5lib\").get_text().replace(\"\\xa0\", \" \")\n",
    "        return art\n",
    "\n",
    "    # Загрузка всех статей за один день.\n",
    "    def getLentaDay(self, url):\n",
    "        \"\"\" Gets all URLs for a given day and gets all texts. \"\"\"\n",
    "        try:\n",
    "            # Грузим страницу со списком всех статей.\n",
    "            day = requests.get(url) \n",
    "            # Получаем фрагменты с нужными нам адресами статей.\n",
    "            h3s=BeautifulSoup(day.text, \"html5lib\").find_all(\"h3\")\n",
    "            # Получаем все адреса на статьи за день.\n",
    "            links=[\"http://lenta.ru\"+l.find_all(\"a\")[0][\"href\"] for l in h3s]\n",
    "            # Загружаем статьи.\n",
    "            for l in links:\n",
    "                art=self.getLentaArticle(l)\n",
    "                self.articles.append(art)\n",
    "        except:\n",
    "            pass\n",
    "\n",
    "    # Загрузка всех статей за несколько дней.\n",
    "    def getLentaPeriod(self, start, finish):\n",
    "        curdate=start\n",
    "        while curdate<=finish:\n",
    "            print(curdate.strftime('%Y/%m/%d')) # Just in case.\n",
    "            # Список статей грузится с вот такого адреса.\n",
    "            self.getLentaDay('https://lenta.ru/news/'+curdate.strftime('%Y/%m/%d'))\n",
    "            curdate+=datetime.timedelta(days=1)\n",
    "\n",
    "    def getPeriod(self, start, finish):\n",
    "        self.getLentaPeriod(start, finish)\n",
    "    \n",
    "\n",
    "class GetNPlus1(BaseGetNewsPaper):\n",
    "    ''' Класс для загрузки NPlus1.ru.  Наследуется от BaseGetNewsPaper.\n",
    "    '''\n",
    "\n",
    "    def getArticleTextNPlus1(self, adr):\n",
    "        r = requests.get(adr)\n",
    "        #print(r.text)\n",
    "        art = NPlus1Article()\n",
    "        tables = re.split(\"</div>\",re.split('=\"tables\"', r.text)[1])[0]\n",
    "        t1 = re.split(\"</time>\", re.split(\"<time\", tables)[1])[0]\n",
    "        art.time = re.split(\"</span>\", re.split(\"<span>\", t1)[1])[0]\n",
    "        art.date = re.split(\"</span>\", re.split(\"<span>\", t1)[2])[0]\n",
    "        art.rubr = re.findall(\"<a data-rubric.+?>(.+?)</a>\", r.text)[0]\n",
    "        art.diff = re.split(\"</span>\", re.split('\"difficult-value\">', tables)[1])[0]\n",
    "        art.title = re.findall(\"<h1>(.+?)</h1>\", r.text)[0]\n",
    "        art.author = re.split('\" />',re.split('<meta name=\"author\" content=\"', r.text)[1])[0]\n",
    "        art.text = re.split(\"</div>\", re.split(\"</figure>\", re.split('</article>',re.split('<article', r.text)[1])[0])[1])[1]    \n",
    "\n",
    "        beaux_text = BeautifulSoup(art.text, \"html5lib\")\n",
    "        art.text = delcom.sub(\"\", beaux_text.get_text() )\n",
    "        art.text = art.text.replace('\\xa0', ' ')\n",
    "        return art\n",
    "\n",
    "    def getNPlus1Day(self, adr):\n",
    "        r = requests.get(adr)\n",
    "        titles = BeautifulSoup(r.text, \"html5lib\")(\"article\")\n",
    "        addrs = [\"https://nplus1.ru/\"+a(\"a\")[0][\"href\"] for a in titles]\n",
    "        for adr in addrs:\n",
    "            aa=self.getArticleTextNPlus1(adr)\n",
    "            self.articles.append(aa)\n",
    "        \n",
    "    # Загрузка всех статей за несколько дней.\n",
    "    def getNPlus1Period(self, start, finish):\n",
    "        curdate=start\n",
    "        while curdate<=finish:\n",
    "            print(curdate.strftime('%Y/%m/%d')) # Just in case.\n",
    "            # Список статей грузится с вот такого адреса.\n",
    "            self.getNPlus1Day('https://nplus1.ru/news/'+curdate.strftime('%Y/%m/%d'))\n",
    "            curdate+=datetime.timedelta(days=1)\n",
    "\n",
    "    def getPeriod(self, start, finish):\n",
    "        self.getNPlus1Period(start, finish)\n"
   ]
  },
  {
   "cell_type": "code",
   "execution_count": 99,
   "metadata": {},
   "outputs": [],
   "source": [
    "#n1=GetNPlus1()\n",
    "#filename=\"nplus1_test.txt\"\n",
    "n1 = GetLenta()\n",
    "filename = \"lenta_test.txt\""
   ]
  },
  {
   "cell_type": "markdown",
   "metadata": {},
   "source": [
    "А теперь попробуйте угадать для какого класса был выполнен этот код?"
   ]
  },
  {
   "cell_type": "code",
   "execution_count": 100,
   "metadata": {},
   "outputs": [
    {
     "name": "stdout",
     "output_type": "stream",
     "text": [
      "2018/02/01\n",
      "2018/02/02\n"
     ]
    }
   ],
   "source": [
    "\n",
    "n1.getPeriod(datetime.date(2018, 2, 1), datetime.date(2018, 2, 2))\n",
    "n1.saveArticles(filename)\n"
   ]
  },
  {
   "cell_type": "markdown",
   "metadata": {},
   "source": [
    "### Абстрактные методы и классы"
   ]
  },
  {
   "cell_type": "markdown",
   "metadata": {},
   "source": [
    "Теперь сделаем так, чтобы объекты базового класса нельзя было создавать. Это не совсем хорошо именно для нашего случая, но для учебных целей нормально.\n",
    "\n",
    "Подключим абстрактные классы из библиотеки ABC (Abstract Base Classes) и декоратор abstractmethod. Теперь метод `getPeriod` будет абстрактным, то есть он не реализован. Из-за этого (и наследования от ABC) класс BaseGetNewsPaper будет абстрактным, то есть его объекты нельзя создавать."
   ]
  },
  {
   "cell_type": "code",
   "execution_count": 127,
   "metadata": {},
   "outputs": [],
   "source": [
    "from abc import ABC, abstractmethod"
   ]
  },
  {
   "cell_type": "code",
   "execution_count": 129,
   "metadata": {},
   "outputs": [],
   "source": [
    "class BaseGetNewsPaper(ABC):\n",
    "        \n",
    "    # Конструктор - вызывается при создании объекта и инициализирует его.\n",
    "    def __init__(self):\n",
    "        self.articles = []     # Загруженные статьи.\n",
    "        self.dictionaries = [] # Словари для каждой из статей.\n",
    "        # Создаем и загружаем морфологический словарь.\n",
    "        self.morph = pymorphy2.MorphAnalyzer()\n",
    "\n",
    "    # Построение вектора для статьи.\n",
    "    def getArticleDictionary(self, text, needPos=None):\n",
    "        words = [a[0] for a in re.findall(\"([А-ЯЁа-яё]+(-[А-ЯЁа-яё]+)*)\", text)]\n",
    "        reswords = []\n",
    "    \n",
    "        for w in words:\n",
    "            wordform = self.morph.parse(w)[0]\n",
    "            try:\n",
    "                if wordform.tag.POS in ['ADJF', 'NOUN', 'VERB', 'PRTF', 'GRND']:\n",
    "                    if needPos != None:\n",
    "                        reswords.append(wordform.normal_form+'_'+wordform.tag.POS)\n",
    "                    else:\n",
    "                        reswords.append(wordform.normal_form)\n",
    "            except:\n",
    "                pass\n",
    "            \n",
    "        stat = Counter(reswords)\n",
    "        # Берем только слова с частотой больше 1.\n",
    "        stat = {a: stat[a] for a in stat.keys() if stat[a]>1}\n",
    "        return stat\n",
    "\n",
    "    # Посчитаем вектора для всех статей.\n",
    "    def calcArticleDictionaries(self, needPos=None):\n",
    "        self.dictionaries = []\n",
    "        for a in self.articles:\n",
    "            self.dictionaries.append(self.getArticleDictionary(a.text, needPos))\n",
    "            \n",
    "    @abstractmethod\n",
    "    def getPeriod(self, start, finish):\n",
    "        pass\n",
    "    \n",
    "    # Сохраняем статьи в файл.\n",
    "    def saveArticles(self, filename):\n",
    "        \"\"\" Saves all articles to a file with a filename. \"\"\"\n",
    "        newsfile = open(filename, \"w\")\n",
    "        for art in self.articles:\n",
    "            newsfile.write('\\n=====\\n'+art.title)\n",
    "            newsfile.write('\\n-----\\n'+art.text)\n",
    "        newsfile.close()\n",
    "\n",
    "    # Читаем статьи из файла.\n",
    "    def loadArticles(self, filename):\n",
    "        \"\"\" Loads and replaces all articles from a file with a filename. \"\"\"\n",
    "        newsfile = open(filename, encoding=\"utf-8\")\n",
    "        text = newsfile.read()\n",
    "        loaded = text.split('\\n=====\\n')[1:]\n",
    "        self.articles = []\n",
    "        for i, a in enumerate(loaded):\n",
    "            self.articles.append(BaseArticle())\n",
    "            b, self.articles[i].text = a.split('\\n-----\\n')\n",
    "            self.articles[i].title = b\n",
    "        newsfile.close()\n",
    "        \n",
    "class GetLenta(BaseGetNewsPaper):\n",
    "    # Загрузка статьи по URL.\n",
    "    def getLentaArticle(self, url):\n",
    "        \"\"\" getLentaArticle gets the body of an article from Lenta.ru\"\"\"\n",
    "        # Получает текст страницы.\n",
    "        resp = requests.get(url)\n",
    "        # Загружаем текст в объект типа BeautifulSoup.\n",
    "        bs = BeautifulSoup(resp.text, \"html5lib\") \n",
    "        \n",
    "        art = BaseArticle()\n",
    "        # Получаем заголовок статьи.\n",
    "        art.title = bs.h1.text.replace(\"\\xa0\", \" \")\n",
    "        # Получаем текст статьи.\n",
    "        art.text = BeautifulSoup(\" \".join([p.text for p in \n",
    "                                           bs.find_all(\"p\")]), \"html5lib\").get_text().replace(\"\\xa0\", \" \")\n",
    "        return art\n",
    "\n",
    "    # Загрузка всех статей за один день.\n",
    "    def getLentaDay(self, url):\n",
    "        \"\"\" Gets all URLs for a given day and gets all texts. \"\"\"\n",
    "        try:\n",
    "            # Грузим страницу со списком всех статей.\n",
    "            day = requests.get(url) \n",
    "            # Получаем фрагменты с нужными нам адресами статей.\n",
    "            h3s = BeautifulSoup(day.text, \"html5lib\").find_all(\"h3\")\n",
    "            # Получаем все адреса на статьи за день.\n",
    "            links = [\"http://lenta.ru\"+l.find_all(\"a\")[0][\"href\"] for l in h3s]\n",
    "            # Загружаем статьи.\n",
    "            for l in links:\n",
    "                art = self.getLentaArticle(l)\n",
    "                self.articles.append(art)\n",
    "        except:\n",
    "            pass\n",
    "\n",
    "    # Загрузка всех статей за несколько дней.\n",
    "    def getLentaPeriod(self, start, finish):\n",
    "        curdate = start\n",
    "        while curdate <= finish:\n",
    "            print(curdate.strftime('%Y/%m/%d')) # Just in case.\n",
    "            # Список статей грузится с вот такого адреса.\n",
    "            self.getLentaDay('https://lenta.ru/news/'+curdate.strftime('%Y/%m/%d'))\n",
    "            curdate += datetime.timedelta(days=1)\n",
    "\n",
    "    def getPeriod(self, start, finish):\n",
    "        self.getLentaPeriod(start, finish)\n",
    "    \n",
    "\n",
    "class GetNPlus1(BaseGetNewsPaper):\n",
    "    def getArticleTextNPlus1(self, adr):\n",
    "        r = requests.get(adr)\n",
    "        #print(r.text)\n",
    "        art = NPlus1Article()\n",
    "        tables = re.split(\"</div>\",re.split('=\"tables\"', r.text)[1])[0]\n",
    "        t1 = re.split(\"</time>\", re.split(\"<time\", tables)[1])[0]\n",
    "        art.time = re.split(\"</span>\", re.split(\"<span>\", t1)[1])[0]\n",
    "        art.date = re.split(\"</span>\", re.split(\"<span>\", t1)[2])[0]\n",
    "        art.rubr = re.findall(\"<a data-rubric.+?>(.+?)</a>\", r.text)[0]\n",
    "        art.diff = re.split(\"</span>\", re.split('\"difficult-value\">', tables)[1])[0]\n",
    "        art.title = re.findall(\"<h1>(.+?)</h1>\", r.text)[0]\n",
    "        art.author = re.split('\" />',re.split('<meta name=\"author\" content=\"', r.text)[1])[0]\n",
    "        art.text = re.split(\"</div>\", re.split(\"</figure>\", re.split('</article>',re.split('<article', r.text)[1])[0])[1])[1]    \n",
    "\n",
    "        beaux_text = BeautifulSoup(art.text, \"html5lib\")\n",
    "        art.text = delcom.sub(\"\", beaux_text.get_text() )\n",
    "        art.text = art.text.replace('\\xa0', ' ')\n",
    "        return art\n",
    "\n",
    "    def getNPlus1Day(self, adr):\n",
    "        r = requests.get(adr)\n",
    "        titles = BeautifulSoup(r.text, \"html5lib\")(\"article\")\n",
    "        addrs = [\"https://nplus1.ru/\"+a(\"a\")[0][\"href\"] for a in titles]\n",
    "        for adr in addrs:\n",
    "            aa = self.getArticleTextNPlus1(adr)\n",
    "            self.articles.append(aa)\n",
    "        \n",
    "    # Загрузка всех статей за несколько дней.\n",
    "    def getNPlus1Period(self, start, finish):\n",
    "        curdate = start\n",
    "        while curdate <= finish:\n",
    "            print(curdate.strftime('%Y/%m/%d')) # Just in case.\n",
    "            # Список статей грузится с вот такого адреса.\n",
    "            self.getNPlus1Day('https://nplus1.ru/news/'+curdate.strftime('%Y/%m/%d'))\n",
    "            curdate += datetime.timedelta(days=1)\n",
    "\n",
    "    def getPeriod(self, start, finish):\n",
    "        self.getNPlus1Period(start, finish)\n"
   ]
  },
  {
   "cell_type": "code",
   "execution_count": 131,
   "metadata": {},
   "outputs": [
    {
     "ename": "TypeError",
     "evalue": "Can't instantiate abstract class BaseGetNewsPaper with abstract method getPeriod",
     "output_type": "error",
     "traceback": [
      "\u001b[0;31m---------------------------------------------------------------------------\u001b[0m",
      "\u001b[0;31mTypeError\u001b[0m                                 Traceback (most recent call last)",
      "\u001b[0;32m/tmp/ipykernel_75332/3146278358.py\u001b[0m in \u001b[0;36m<module>\u001b[0;34m\u001b[0m\n\u001b[1;32m      1\u001b[0m \u001b[0;31m# Создать не получится - теперь это абстрактный класс.\u001b[0m\u001b[0;34m\u001b[0m\u001b[0;34m\u001b[0m\u001b[0m\n\u001b[0;32m----> 2\u001b[0;31m \u001b[0mnn\u001b[0m \u001b[0;34m=\u001b[0m \u001b[0mBaseGetNewsPaper\u001b[0m\u001b[0;34m(\u001b[0m\u001b[0;34m)\u001b[0m\u001b[0;34m\u001b[0m\u001b[0;34m\u001b[0m\u001b[0m\n\u001b[0m",
      "\u001b[0;31mTypeError\u001b[0m: Can't instantiate abstract class BaseGetNewsPaper with abstract method getPeriod"
     ]
    }
   ],
   "source": [
    "# Создать не получится - теперь это абстрактный класс.\n",
    "nn = BaseGetNewsPaper()\n"
   ]
  },
  {
   "cell_type": "code",
   "execution_count": 132,
   "metadata": {},
   "outputs": [],
   "source": [
    "# А здесь всё в порядке.\n",
    "n1 = GetLenta()\n",
    "n2 = GetNPlus1()"
   ]
  },
  {
   "cell_type": "code",
   "execution_count": null,
   "metadata": {},
   "outputs": [],
   "source": [
    "n1.getPeriod(datetime.date(2018, 2, 1), datetime.date(2018, 2, 2))"
   ]
  },
  {
   "cell_type": "markdown",
   "metadata": {},
   "source": [
    "## @staticmethod и @classmethod "
   ]
  },
  {
   "cell_type": "markdown",
   "metadata": {},
   "source": [
    "Теперь добавим этим классам набор операторов, которые сделают работу ними более удобной. Хотя некоторые операторы скорее для демонстрации возможностей применения перегруженных операторов.\n",
    "\n",
    "Также при помощи `@staticmethod` добавим статический метод - метод, который можно вызывать без создания объекта данного класса. Для этого необходимо лишь написать перед вызовом имя класса, к которому относится метод. \n",
    "\n",
    "Помимо этого, можно создать `@classmethod`. Он также вызывается без создания объекта, но при этом в его параметры передается класс, для которого вызывается данный метод. Как следствие, он имеет возможность доступа к свойствам класса (правда, мы видели, что можно и так получить к ним доступ, но разница появится для закрытых членов)."
   ]
  },
  {
   "cell_type": "code",
   "execution_count": 8,
   "metadata": {},
   "outputs": [],
   "source": [
    "from copy import copy"
   ]
  },
  {
   "cell_type": "code",
   "execution_count": 3,
   "metadata": {},
   "outputs": [
    {
     "data": {
      "text/plain": [
       "pymorphy2.analyzer.MorphAnalyzer"
      ]
     },
     "execution_count": 3,
     "metadata": {},
     "output_type": "execute_result"
    }
   ],
   "source": [
    "m = pymorphy2.MorphAnalyzer()\n",
    "type(m)"
   ]
  },
  {
   "cell_type": "code",
   "execution_count": 44,
   "metadata": {},
   "outputs": [],
   "source": [
    "# Базовый класс статьи, он же класс статьи для Ленты.ру\n",
    "class BaseArticle:\n",
    "    def __init__(self, _title=None, _text=None):\n",
    "        \"\"\"Конструктор для базового класса статьи. Заводит поля title и text.\"\"\"\n",
    "        if isinstance(_title, str) and isinstance(_text, str):\n",
    "            self.title=_title\n",
    "            self.text=_text\n",
    "        else:\n",
    "            self.title=\"\"\n",
    "            self.text=\"\"\n",
    "        \n",
    "    # Конвертация в JSON.\n",
    "    def toJSON(self):\n",
    "        \"\"\"Возвращает представление базовой статьи в формате строки JSON.\"\"\"\n",
    "        res='{\"title\":\"'+self.title.replace('\"', '\\\\\"')+'\",\"text\":\"'+self.text.replace('\"', '\\\\\"')+'\"}'\n",
    "        return res\n",
    "\n",
    "    # Конвертация в словарь.\n",
    "    def toDict(self):\n",
    "        \"\"\"Возвращает представление базовой статьи в виде словаря.\"\"\"\n",
    "        res={\"title\":self.title.replace('\"', '\\\\\"'), \"text\":self.text.replace('\"', '\\\\\"')}\n",
    "        return res\n",
    "    \n",
    "    # Возвращает строковое представление статьи если преобразуется к строке при помощи str(article)\n",
    "    # или print(article).\n",
    "    def __str__(self):\n",
    "        \"\"\"Возвращает строку из 200 первых символов заголовка статьи и 200 первых символов самой статьи.\"\"\"\n",
    "        return '<title: '+self.title[:200]+'\\ntext: '+self.text[:200]+'... >'\n",
    "\n",
    "    # Возвращает строковое представление статьи если мы просим среду отобразить статью ьез print.\n",
    "    def __repr__(self):\n",
    "        \"\"\"Возвращает строку из 100 первых символов заголовка как краткое текстовое представление статьи.\"\"\"\n",
    "        return '<Base Article on \"'+self.title[:100]+'\">'\n",
    "    \n",
    "    \n",
    "class NPlus1Article(BaseArticle):\n",
    "    def __init__(self):\n",
    "        \"\"\"Конструктор для базового класса статьи. Заводит поля title, text, date, time, rubr, diff и author.\"\"\"\n",
    "        # Вызываем конструктор от базового класса.\n",
    "        super().__init__()\n",
    "        self.time = \"\"\n",
    "        self.date = \"\"\n",
    "        self.rubr = \"\"\n",
    "        self.diff = \"\"\n",
    "        self.author = \"\"\n",
    "        \n",
    "    # Конвертация в JSON.\n",
    "    def toJSON(self):\n",
    "        \"\"\"Возвращает представление базовой статьи в формате строки JSON.\"\"\"\n",
    "        res = f'{{\"date\":\"{self.date}\", \"time\":\"{self.time}\", \"rubrics\":\"{self.rubr}\", \"difficulty\":\"'\n",
    "        res += f'{self.diff}\", \"title\":\"{self.title}\", \"author\":\"{self.author}\",\"text\":\"'\n",
    "        res += self.text.replace('\"', '\\\\\"')+'\"}'\n",
    "        return res\n",
    "\n",
    "    # Конвертация в словарь.\n",
    "    def toDict(self):\n",
    "        \"\"\"Возвращает представление базовой статьи в виде словаря.\"\"\"\n",
    "        res = {\"date\":self.date, \"time\":self.time, \"rubrics\":self.rubr, \"difficulty\":self.diff,\\\n",
    "               \"title\":self.title, \"author\":self.author,\"text\":self.text.replace('\"', '\\\\\"')}\n",
    "        return res\n",
    "\n",
    "    def __str__(self):\n",
    "        \"\"\"Возвращает строку из метаданных о статье, 200 первых символов заголовка статьи \n",
    "           и 200 первых символов самой статьи.\"\"\"\n",
    "        res = f'<date:\"{self.date} : {self.time}\\nrubrics: {self.rubr}\\ndifficulty: {self.diff}'\n",
    "              f'\\nauthor: {self.author}\\ntitle: {self.title[:100]}\\ntext: {self.text[:100]}>'\n",
    "        return res\n",
    "\n",
    "    def __repr__(self):\n",
    "        \"\"\"Возвращает строку из 100 первых символов заголовка как краткое текстовое представление статьи.\"\"\"\n",
    "        return '<NPlus1 Article on \"' + self.title[:100] + '\">'\n",
    "    \n",
    "    \n",
    "# Базовый класс для загрузчиков новостей.\n",
    "# В образовательных целях сделан как абстрактный класс, то есть класс, объекты которого нельзя создавать.\n",
    "# Можно унаследоваться, переопределить абстрактные функции (отмечены декоратором @abstractmethod).\n",
    "# По-хорошему, можно было бы использовать для того, чтобы прочитать новости и работать с ними.\n",
    "# Умеет посчитать частотные вектора статей.\n",
    "class BaseGetNewsPaper(ABC):\n",
    "        \n",
    "    cntr = 0 # !!! Это член класса !!!\n",
    "    \n",
    "    # Конструктор - вызывается при создании объекта и инициализирует его.\n",
    "    def __init__(self, data=None):\n",
    "        \"\"\"Конструктор объектов класса BaseGetNewsPaper. \n",
    "           Может принимать инициализирующие параметры типа BaseGetNewsPaper (создает копию)\n",
    "           и list (в этом случае оставляет заголовки пустыми).\"\"\"\n",
    "        # Проверяем тип переданного параметра и в зависимости от него по-разному инициализируем объект.\n",
    "        if data == None:\n",
    "            self.articles = []\n",
    "            self.dictionaries = []\n",
    "        if isinstance(data, BaseGetNewsPaper):\n",
    "            self.articles = copy(data.articles)\n",
    "            self.dictionaries = copy(data.dictionaries)\n",
    "        elif isinstance(data, list):\n",
    "            self.articles = copy(data)\n",
    "            self.dictionaries = []\n",
    "        # В любом случае создаем объект морфологии для создания частотных векторов.\n",
    "        self.__morph = pymorphy2.MorphAnalyzer()\n",
    "        self.__ttt = 1\n",
    "        \n",
    "        BaseGetNewsPaper.cntr += 1\n",
    "        \n",
    "    @classmethod\n",
    "    def getCounter(cls):\n",
    "        return cls.cntr\n",
    "\n",
    "    # Построение вектора для статьи.\n",
    "    def getArticleDictionary(self, text, needPos=None):\n",
    "        \"\"\"Строит частотные векторы для текста статьи, берет только значимые части речи.\"\"\"\n",
    "        words=[a[0] for a in re.findall(\"([А-ЯЁа-яё]+(-[А-ЯЁа-яё]+)*)\", text)]\n",
    "        reswords=[]\n",
    "    \n",
    "        for w in words:\n",
    "            wordform=self.morph.parse(w)[0]\n",
    "            try:\n",
    "                if wordform.tag.POS in ['ADJF', 'NOUN', 'VERB', 'PRTF', 'GRND']:\n",
    "                    if needPos!=None:\n",
    "                        reswords.append(wordform.normal_form+'_'+wordform.tag.POS)\n",
    "                    else:\n",
    "                        reswords.append(wordform.normal_form)\n",
    "            except:\n",
    "                pass\n",
    "            \n",
    "        stat=Counter(reswords)\n",
    "        # Берем только слова с частотой больше 1.\n",
    "        stat={a: stat[a] for a in stat.keys() if stat[a]>1}\n",
    "        return stat\n",
    "\n",
    "    @staticmethod\n",
    "    def getIPoS():\n",
    "        return ['ADJF', 'NOUN', 'VERB', 'PRTF', 'GRND']\n",
    "    \n",
    "    def getIPoS2():\n",
    "        return ['ADJF', 'NOUN', 'VERB', 'PRTF', 'GRND']\n",
    "    \n",
    "    # Посчитаем вектора для всех статей.\n",
    "    def calcArticleDictionaries(self, needPos=None):\n",
    "        \"\"\"Строит частотные вектора для всех статей в коллекции.\n",
    "           !!! Не ясно что делать, когда пополняем. \n",
    "               По-хорошему надо хранить свойство, которое показывает \n",
    "               надо ли их считать для всех статей при добавлении или нет. !!!\"\"\"\n",
    "        self.dictionaries=[]\n",
    "        for a in self.articles:\n",
    "            self.dictionaries.append(self.getArticleDictionary(a.text, needPos))\n",
    "            \n",
    "    # Абстрактный метод для загрузки новостей за заданный период.\n",
    "    # Должен быть реализован в дочернем классе.\n",
    "    @abstractmethod\n",
    "    def getPeriod(self, start, finish):\n",
    "        \"\"\"Абстрактный метод для загрузки новостей за заданный период.\n",
    "           Должен быть реализован в дочернем классе.\"\"\"\n",
    "        pass\n",
    "\n",
    "    # Абстрактный метод для загрузки одной новости по ее адресу.\n",
    "    # Должен быть реализован в дочернем классе.\n",
    "    @abstractmethod\n",
    "    def getArticle(self, url):\n",
    "        \"\"\"Абстрактный метод для загрузки одной новости по ее адресу.\n",
    "        Должен быть реализован в дочернем классе.\"\"\"\n",
    "        pass\n",
    "\n",
    "    # Сохраняем статьи в файл.\n",
    "    def saveArticles(self, filename):\n",
    "        \"\"\"Сохраняет статью в файл с именем filename. \n",
    "           Статьи отделены друг от друга строкой \"=====\", заголовок от статьи строкой \"-----\". \"\"\"\n",
    "        newsfile = open(filename, \"w\")\n",
    "        for art in self.articles:\n",
    "            newsfile.write('\\n=====\\n'+art.title)\n",
    "            newsfile.write('\\n-----\\n'+art.text)\n",
    "        newsfile.close()\n",
    "\n",
    "    # Читаем статьи из файла.\n",
    "    def loadArticles(self, filename):\n",
    "        \"\"\" Loads and replaces all articles from a file with a filename. \"\"\"\n",
    "        newsfile = open(filename, encoding=\"utf-8\")\n",
    "        text = newsfile.read()\n",
    "        loaded = text.split('\\n=====\\n')[1:]\n",
    "        self.articles=[]\n",
    "        for i, a in enumerate(loaded):\n",
    "            self.articles.append(BaseArticle())\n",
    "            b, self.articles[i].text = a.split('\\n-----\\n')\n",
    "            self.articles[i].title = b\n",
    "        newsfile.close()\n",
    "        \n",
    "    # Показывает сколько статей загружено.\n",
    "    def __len__(self):\n",
    "        return len(self.articles)\n",
    "    \n",
    "    # Возвращает статью, если передано целое число или хранилище статей, если передан slice.\n",
    "    def __getitem__(self, index):\n",
    "        if type(index)==slice:\n",
    "            return type(self)(self.articles[index])\n",
    "        else:\n",
    "            return self.articles[index]\n",
    "        \n",
    "    def __getattr__(self, prop):\n",
    "        if len(prop)==1:\n",
    "            if prop==prop.lower():\n",
    "                return self.articles[ord(prop)-ord('a')].text\n",
    "            else:\n",
    "                return self.articles[ord(prop)-ord('A')].title\n",
    "            \n",
    "    def __lshift__(self, art):\n",
    "        # Здесь надо что-то делать со словарями.\n",
    "        if isinstance(art, BaseArticle):\n",
    "            self.articles.append(art)\n",
    "        elif isinstance(art, str):\n",
    "            a1=BaseArticle()\n",
    "            a1.text=art\n",
    "            a1.title=\"No Title\"\n",
    "            self.articles.append(a1)\n",
    "        else:\n",
    "            raise NotImplementedError(\"Should be String or BaseArticle\")\n",
    "        return self\n",
    "        \n",
    "    def __iadd__(self, art):\n",
    "        return self<<art\n",
    "    \n",
    "    def __add__(self, art):\n",
    "        t=type(self)(self) # mtype=type(self), t=mtype(), t=self\n",
    "        t+=art\n",
    "        return t\n",
    "\n",
    "    def __radd__(self, art):\n",
    "        t=type(self)(self)\n",
    "        t+=art\n",
    "        return t\n",
    "    \n",
    "    @abstractmethod\n",
    "    def __str__(self):\n",
    "        pass\n",
    "    \n",
    "    def __call__(self):\n",
    "        return len(self.articles)\n",
    "    \n",
    "    def __iter__(self):\n",
    "        for art in self.articles:\n",
    "            yield art\n",
    "        return\n",
    "    \n",
    "    @property\n",
    "    def morph(self):\n",
    "        return self.__morph\n",
    "\n",
    "    @morph.setter\n",
    "    def morph(self, m):\n",
    "        if type(m) == pymorphy2.analyzer.MorphAnalyzer:\n",
    "            self.__morph = m\n",
    "            \n",
    "\n",
    "class GetLenta(BaseGetNewsPaper):\n",
    "    # Загрузка статьи по URL.\n",
    "    def getLentaArticle(self, url):\n",
    "        \"\"\" getLentaArticle gets the body of an article from Lenta.ru\"\"\"\n",
    "        # Получает текст страницы.\n",
    "        resp=requests.get(url)\n",
    "        # Загружаем текст в объект типа BeautifulSoup.\n",
    "        bs=BeautifulSoup(resp.text, \"html5lib\") \n",
    "        \n",
    "        art=BaseArticle()\n",
    "        # Получаем заголовок статьи.\n",
    "        art.title=bs.h1.text.replace(\"\\xa0\", \" \")\n",
    "        # Получаем текст статьи.\n",
    "        art.text=BeautifulSoup(\" \".join([p.text for p in bs.find_all(\"p\")]), \"html5lib\").get_text().replace(\"\\xa0\", \" \")\n",
    "        return art\n",
    "\n",
    "    # Загрузка всех статей за один день.\n",
    "    def getLentaDay(self, url):\n",
    "        \"\"\" Gets all URLs for a given day and gets all texts. \"\"\"\n",
    "        try:\n",
    "            # Грузим страницу со списком всех статей.\n",
    "            day = requests.get(url) \n",
    "            # Получаем фрагменты с нужными нам адресами статей.\n",
    "            h3s=BeautifulSoup(day.text, \"html5lib\").find_all(\"h3\")\n",
    "            # Получаем все адреса на статьи за день.\n",
    "            links=[\"http://lenta.ru\"+l.find_all(\"a\")[0][\"href\"] for l in h3s]\n",
    "            # Загружаем статьи.\n",
    "            for l in links:\n",
    "                art=self.getLentaArticle(l)\n",
    "                self.articles.append(art)\n",
    "        except:\n",
    "            pass\n",
    "\n",
    "    # Загрузка всех статей за несколько дней.\n",
    "    def getLentaPeriod(self, start, finish):\n",
    "        curdate=start\n",
    "        while curdate<=finish:\n",
    "            print(curdate.strftime('%Y/%m/%d')) # Just in case.\n",
    "            # Список статей грузится с вот такого адреса.\n",
    "            self.getLentaDay('https://lenta.ru/news/'+curdate.strftime('%Y/%m/%d'))\n",
    "            curdate+=datetime.timedelta(days=1)\n",
    "\n",
    "    def getPeriod(self, start, finish):\n",
    "        self.getLentaPeriod(start, finish)\n",
    "        \n",
    "    def __str__(self):\n",
    "        return \"<Lenta.ru scrapper: \"+str(len(self.articles))+\" articles loaded>\"\n",
    "    \n",
    "    def getArticle(self, url):\n",
    "        if \"lenta.ru\" in url.lower():\n",
    "            self.lower().getLentaArticle(url)\n",
    "        else:\n",
    "            raise NotImplementedError(\"I can download from Lenta.ru site only.\")\n",
    "            \n",
    "\n",
    "class GetNPlus1(BaseGetNewsPaper):\n",
    "    def getArticleTextNPlus1(self, adr):\n",
    "        r = requests.get(adr)\n",
    "        #print(r.text)\n",
    "        art = NPlus1Article()\n",
    "        tables = re.split(\"</div>\",re.split('=\"tables\"', r.text)[1])[0]\n",
    "        t1 = re.split(\"</time>\", re.split(\"<time\", tables)[1])[0]\n",
    "        art.time = re.split(\"</span>\", re.split(\"<span>\", t1)[1])[0]\n",
    "        art.date = re.split(\"</span>\", re.split(\"<span>\", t1)[2])[0]\n",
    "        art.rubr = re.findall(\"<a data-rubric.+?>(.+?)</a>\", r.text)[0]\n",
    "        art.diff = re.split(\"</span>\", re.split('\"difficult-value\">', tables)[1])[0]\n",
    "        art.title = re.findall(\"<h1>(.+?)</h1>\", r.text)[0]\n",
    "        art.author = re.split('\" />',re.split('<meta name=\"author\" content=\"', r.text)[1])[0]\n",
    "        art.text = re.split(\"</div>\", re.split(\"</figure>\", re.split('</article>',re.split('<article', r.text)[1])[0])[1])[1]    \n",
    "\n",
    "        beaux_text = BeautifulSoup(art.text, \"html5lib\")\n",
    "        art.text = delcom.sub(\"\", beaux_text.get_text() )\n",
    "        art.text = art.text.replace('\\xa0', ' ')\n",
    "        return art\n",
    "\n",
    "    def getNPlus1Day(self, adr):\n",
    "        r = requests.get(adr)\n",
    "        titles = BeautifulSoup(r.text, \"html5lib\")(\"article\")\n",
    "        addrs = [\"https://nplus1.ru/\"+a(\"a\")[0][\"href\"] for a in titles]\n",
    "        for adr in addrs:\n",
    "            aa=self.getArticleTextNPlus1(adr)\n",
    "            self.articles.append(aa)\n",
    "        \n",
    "    # Загрузка всех статей за несколько дней.\n",
    "    def getNPlus1Period(self, start, finish):\n",
    "        curdate=start\n",
    "        while curdate<=finish:\n",
    "            print(curdate.strftime('%Y/%m/%d')) # Just in case.\n",
    "            # Список статей грузится с вот такого адреса.\n",
    "            self.getNPlus1Day('https://nplus1.ru/news/'+curdate.strftime('%Y/%m/%d'))\n",
    "            curdate+=datetime.timedelta(days=1)\n",
    "\n",
    "    def getPeriod(self, start, finish):\n",
    "        self.getNPlus1Period(start, finish)\n",
    "        \n",
    "    def __str__(self):\n",
    "        return \"<NPlus1.ru scrapper: \"+str(len(self.articles))+\" articles loaded>\"\n",
    "\n",
    "    def getArticle(self, url):\n",
    "        if \"nplus1.ru\" in url.lower():\n",
    "            return self.getArticleTextNPlus1(url)\n",
    "        else:\n",
    "            raise NotImplementedError(\"I can download from Lenta.ru site only.\")\n",
    "    "
   ]
  },
  {
   "cell_type": "code",
   "execution_count": 47,
   "metadata": {},
   "outputs": [
    {
     "data": {
      "text/plain": [
       "1"
      ]
     },
     "execution_count": 47,
     "metadata": {},
     "output_type": "execute_result"
    }
   ],
   "source": [
    "BaseGetNewsPaper.cntr"
   ]
  },
  {
   "cell_type": "code",
   "execution_count": 46,
   "metadata": {},
   "outputs": [],
   "source": [
    "n1 = GetNPlus1()"
   ]
  },
  {
   "cell_type": "code",
   "execution_count": 48,
   "metadata": {},
   "outputs": [
    {
     "data": {
      "text/plain": [
       "1"
      ]
     },
     "execution_count": 48,
     "metadata": {},
     "output_type": "execute_result"
    }
   ],
   "source": [
    "n1.cntr"
   ]
  },
  {
   "cell_type": "code",
   "execution_count": 43,
   "metadata": {},
   "outputs": [
    {
     "ename": "TypeError",
     "evalue": "getIPoS2() takes 0 positional arguments but 1 was given",
     "output_type": "error",
     "traceback": [
      "\u001b[0;31m---------------------------------------------------------------------------\u001b[0m",
      "\u001b[0;31mTypeError\u001b[0m                                 Traceback (most recent call last)",
      "\u001b[0;32m/tmp/ipykernel_864515/3105283710.py\u001b[0m in \u001b[0;36m<module>\u001b[0;34m\u001b[0m\n\u001b[1;32m      1\u001b[0m \u001b[0;31m# BaseGetNewsPaper.getIPoS()\u001b[0m\u001b[0;34m\u001b[0m\u001b[0;34m\u001b[0m\u001b[0;34m\u001b[0m\u001b[0m\n\u001b[0;32m----> 2\u001b[0;31m \u001b[0mn1\u001b[0m\u001b[0;34m.\u001b[0m\u001b[0mgetIPoS2\u001b[0m\u001b[0;34m(\u001b[0m\u001b[0;34m)\u001b[0m\u001b[0;34m\u001b[0m\u001b[0;34m\u001b[0m\u001b[0m\n\u001b[0m",
      "\u001b[0;31mTypeError\u001b[0m: getIPoS2() takes 0 positional arguments but 1 was given"
     ]
    }
   ],
   "source": [
    "# BaseGetNewsPaper.getIPoS()\n",
    "n1.getIPoS2()"
   ]
  },
  {
   "cell_type": "code",
   "execution_count": 40,
   "metadata": {},
   "outputs": [
    {
     "data": {
      "text/plain": [
       "['ADJF', 'NOUN', 'VERB', 'PRTF', 'GRND']"
      ]
     },
     "execution_count": 40,
     "metadata": {},
     "output_type": "execute_result"
    }
   ],
   "source": [
    "BaseGetNewsPaper.getIPoS2()\n",
    "# n1.getIPoS2()"
   ]
  },
  {
   "cell_type": "code",
   "execution_count": 50,
   "metadata": {},
   "outputs": [
    {
     "name": "stdout",
     "output_type": "stream",
     "text": [
      "<pymorphy2.analyzer.MorphAnalyzer object at 0x7f9694b7ff70>\n",
      "<pymorphy2.analyzer.MorphAnalyzer object at 0x7f9694b7ff70>\n"
     ]
    }
   ],
   "source": [
    "print(n1.morph)\n",
    "n1.morph = 1\n",
    "print(n1.morph)\n"
   ]
  },
  {
   "cell_type": "code",
   "execution_count": 26,
   "metadata": {},
   "outputs": [
    {
     "name": "stdout",
     "output_type": "stream",
     "text": [
      "<title: 123\n",
      "text: ... > <title: 321\n",
      "text: ... >\n",
      "<title: \n",
      "text: ... >\n"
     ]
    }
   ],
   "source": [
    "a1=BaseArticle()\n",
    "a2=BaseArticle()\n",
    "a1.title=\"123\"\n",
    "a2.title=\"321\"\n",
    "print(a1, a2)\n",
    "a3=BaseArticle(a1, a2)\n",
    "print(a3)"
   ]
  },
  {
   "cell_type": "code",
   "execution_count": 27,
   "metadata": {},
   "outputs": [
    {
     "name": "stdout",
     "output_type": "stream",
     "text": [
      "<title: Беспилотные автомобили Waymo оказались самыми самостоятельными\n",
      "text: Беспилотные автомобили компании Waymo оказались самыми самостоятельными в 2017 году — в среднем водителям-испытателям приходилось перехватывать управление один раз в почти девять тысяч километров, в т... > \n",
      "\n",
      "<title: Неупорядоченная структура шелка сделала его блестящим и холодным\n",
      "text: Физики обнаружили, что блеск шелка возникает из-за наличия в нитях неупорядоченных полостей нанометровой толщины,на которых происходит интерференция света. Та же причина объясняет и теплообмен в нитях... > \n",
      "\n",
      "<title: Беспилотный автомобиль испытают британскими дорогами\n",
      "text: Автомобильные компании Nissan, Renault и Mitsubishi совместно с Университетом Крэнфилда и управляющей компанией Highways England объявили о намерении провести испытания беспилотного автомобиля левосто... > \n",
      "\n",
      "<title: CRISPR заставит биться сердца больных мышечной дистрофией Дюшенна\n",
      "text: Исследователи отредактировали клетки сердечной мышцы с мутациями, приводящими к развитию миодистрофии Дюшенна. При помощи системы CRISPR-Cas9 мутантные участки гена «выбросили»\n",
      "из мРНК, а из клеток с ... > \n",
      "\n",
      "<title: Потребительские дроны получат радары для уклонения от столкновений\n",
      "text: Американские компании Aurora Flight Sciences и Socionext занялись совместной разработкой радарной системы уклонения от столкновений для небольших потребительских дронов. Согласно сообщению Aurora Flig... > \n",
      "\n",
      "<title: Amazon запатентовала следящий за руками работников браслет\n",
      "text: Компания Amazon запатентовала наручный браслет, который будет отслеживать положение рук работников склада и контролировать их действия. Если сотрудник начнет класть товар в неправильный контейнер, так... > \n",
      "\n",
      "<title: SpaceX протестировала посадку первой ступени Falcon 9 на трех двигателях\n",
      "text: SpaceX протестировала режим посадки первой ступени ракеты Falcon 9 с использованием трех двигателей, сообщил Илон Маск в твиттере. Поскольку посадка была экспериментальной, ступень не сажали на платфо... > \n",
      "\n",
      "<title: Американский флот получил робота — охотника за подлодками\n",
      "text: Агентство перспективных оборонных разработок (DARPA) министерства обороны США завершило свою часть проекта ACTUV по созданию полностью автономного надводного робота, предназначенного для обнаружения и... > \n",
      "\n"
     ]
    }
   ],
   "source": [
    "n1=GetNPlus1()\n",
    "n1.loadArticles(\"data/nplus1_test.txt\")\n",
    "# Проверяем как работает __len__()\n",
    "#len(n1)\n",
    "\n",
    "# Проверяем как работают срезы.\n",
    "#len(n1[1:5])\n",
    "#type(n1[1:5])\n",
    "#n1[1].title\n",
    "\n",
    "# Инициализирующий конструктор.\n",
    "#n2=GetNPlus1(n1)\n",
    "#n2.articles[0].title, n1.articles[0].title\n",
    "\n",
    "# Выдача свойств, которых нет у объекта - спорная практическая значимость и очевидность кода.\n",
    "#n1.A, n1.b\n",
    "\n",
    "# Работа с @property\n",
    "#print(n1.morph)\n",
    "#print(n1.__morph)\n",
    "\n",
    "# Операторы сдвига и сложения для разных типов.\n",
    "#n1<<n1[0]\n",
    "#n1+=n1[0]\n",
    "#n1<<1\n",
    "#print(\"\", n1.A, \"\\n\", n1[-1].title)\n",
    "\n",
    "# \"Левое\" сложение против \"правого\".\n",
    "#n2=n1+n1[0]\n",
    "#n2=n1[0]+n1\n",
    "#print(\"\", n2.A, \"\\n\", n2[-1].title)\n",
    "\n",
    "# Преобразование к строке.\n",
    "#print(n1)\n",
    "\n",
    "# \"Вызов\" функции как объекта.\n",
    "#n1()\n",
    "\n",
    "# Тестируем __str__()\n",
    "#print(n1.getArticle(\"https://nplus1.ru/news/2019/02/20/deep-sqeak\"))\n",
    "# Тестируем __repr__()\n",
    "#n1[0]\n",
    "\n",
    "# Тестируем коллекцию статей как итерируемый объект.\n",
    "for art in n1[2:10]:\n",
    "    print(art, \"\\n\")"
   ]
  },
  {
   "cell_type": "code",
   "execution_count": null,
   "metadata": {},
   "outputs": [],
   "source": [
    "\n"
   ]
  },
  {
   "cell_type": "markdown",
   "metadata": {},
   "source": [
    "### Снова об исключительных ситуациях\n",
    "\n",
    "Кстати, можно создавать собственные классы исключительных ситуаций. Они должны наследоваться от `Exception`. То есть по-хорошему, `try ... except ...` работает только с наследниками этого класса, а он, в свою очередь, обеспечивает им единый интерфейс."
   ]
  },
  {
   "cell_type": "code",
   "execution_count": null,
   "metadata": {},
   "outputs": [],
   "source": []
  },
  {
   "cell_type": "code",
   "execution_count": null,
   "metadata": {},
   "outputs": [],
   "source": []
  },
  {
   "cell_type": "markdown",
   "metadata": {},
   "source": [
    "## Принципы SOLID при разработке программного обеспечения\n",
    "\n",
    "> Если вы обнаружили, что в блоке кода, который вы хотите протестировать, много побочных эффектов, значит вы нарушаете <a href=\"https://ru.wikipedia.org/wiki/%D0%9F%D1%80%D0%B8%D0%BD%D1%86%D0%B8%D0%BF_%D0%B5%D0%B4%D0%B8%D0%BD%D1%81%D1%82%D0%B2%D0%B5%D0%BD%D0%BD%D0%BE%D0%B9_%D0%BE%D1%82%D0%B2%D0%B5%D1%82%D1%81%D1%82%D0%B2%D0%B5%D0%BD%D0%BD%D0%BE%D1%81%D1%82%D0%B8\">Принцип Единственной Ответственности</a>. Нарушение принципа единственной ответственности означает, что фрагмент кода делает слишком много вещей и требует рефакторинга. Следование принципу единственной ответственности — отличный способ проектирования кода, для которого не составит труда писать простые повторяемые модульные тесты, и, в конечном счете, создания надежных приложений.  \n",
    "\n",
    "<div align=\"right\"><a href=\"https://habr.com/ru/company/otus/blog/433358/\">https://habr.com/ru/company/otus/blog/433358/</a></div>\n",
    "\n",
    "Принцип единой ответственности относится к [принципам](https://habr.com/ru/post/446816/) [SOLID](https://habr.com/ru/company/ruvds/blog/426413/) ([и вот ещё](https://habr.com/ru/company/mailru/blog/412699/)), помогающим писать хороший код на основе объектно-ориентированной парадигмы.\n",
    "\n",
    "![](img/lbzrqyibpifgxpgagwl44tgw7gu.png)\n",
    "\n"
   ]
  },
  {
   "cell_type": "code",
   "execution_count": null,
   "metadata": {},
   "outputs": [],
   "source": []
  }
 ],
 "metadata": {
  "kernelspec": {
   "display_name": "Python 3 (ipykernel)",
   "language": "python",
   "name": "python3"
  },
  "language_info": {
   "codemirror_mode": {
    "name": "ipython",
    "version": 3
   },
   "file_extension": ".py",
   "mimetype": "text/x-python",
   "name": "python",
   "nbconvert_exporter": "python",
   "pygments_lexer": "ipython3",
   "version": "3.10.12"
  }
 },
 "nbformat": 4,
 "nbformat_minor": 2
}
